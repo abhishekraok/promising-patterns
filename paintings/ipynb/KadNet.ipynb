{
 "metadata": {
  "name": ""
 },
 "nbformat": 3,
 "nbformat_minor": 0,
 "worksheets": [
  {
   "cells": [
    {
     "cell_type": "markdown",
     "metadata": {},
     "source": [
      "Kadnet\n",
      "=========================\n",
      "\n",
      "Kadnet is a way to grow huge Neural network via local training. We start with our  base which is a pre-trained network, then we grow on that by giving new labeled image. \n",
      "\n",
      "Training Procedure\n",
      "-----------------------\n",
      "1. Give **N** new labeled image, check the top **max_features** active features in each of these. Create a new node labeled as the given label and with the simplest transorm that activates this node only for the given images and not others.\n"
     ]
    },
    {
     "cell_type": "markdown",
     "metadata": {},
     "source": [
      "Initialize the standard code"
     ]
    },
    {
     "cell_type": "code",
     "collapsed": false,
     "input": [
      "import numpy as np\n",
      "import matplotlib.pyplot as plt\n",
      "%matplotlib inline\n",
      "\n",
      "# Make sure that caffe is on the python path:\n",
      "caffe_root = '../'  # this file is expected to be in {caffe_root}/examples\n",
      "import sys\n",
      "sys.path.insert(0, caffe_root + 'python')\n",
      "\n",
      "import caffe\n",
      "\n",
      "plt.rcParams['figure.figsize'] = (10, 10)\n",
      "plt.rcParams['image.interpolation'] = 'nearest'\n",
      "plt.rcParams['image.cmap'] = 'gray'\n",
      "\n",
      "import os\n",
      "if not os.path.isfile(caffe_root + 'models/bvlc_reference_caffenet/bvlc_reference_caffenet.caffemodel'):\n",
      "    print(\"Downloading pre-trained CaffeNet model...\")\n",
      "    !../scripts/download_model_binary.py ../models/bvlc_reference_caffenet\n",
      "    \n",
      "caffe.set_mode_cpu()\n",
      "net = caffe.Net(caffe_root + 'models/bvlc_reference_caffenet/deploy.prototxt',\n",
      "                caffe_root + 'models/bvlc_reference_caffenet/bvlc_reference_caffenet.caffemodel',\n",
      "                caffe.TEST)\n",
      "\n",
      "# input preprocessing: 'data' is the name of the input blob == net.inputs[0]\n",
      "transformer = caffe.io.Transformer({'data': net.blobs['data'].data.shape})\n",
      "transformer.set_transpose('data', (2,0,1))\n",
      "transformer.set_mean('data', np.load(caffe_root + 'python/caffe/imagenet/ilsvrc_2012_mean.npy').mean(1).mean(1)) # mean pixel\n",
      "transformer.set_raw_scale('data', 255)  # the reference model operates on images in [0,255] range instead of [0,1]\n",
      "transformer.set_channel_swap('data', (2,1,0))  # the reference model has channels in BGR order instead of RGB\n",
      "net.blobs['data'].reshape(1,3,227,227)  # change from batch of 10 to 1\n",
      "# Originally it is (10,3,227,227)\n",
      "\n",
      "# load labels\n",
      "imagenet_labels_filename = caffe_root + 'data/ilsvrc12/synset_words.txt'\n",
      "try:\n",
      "    caffe_labels = np.loadtxt(imagenet_labels_filename, str, delimiter='\\t')\n",
      "except:\n",
      "    !../data/ilsvrc12/get_ilsvrc_aux.sh\n",
      "    caffe_labels = np.loadtxt(imagenet_labels_filename, str, delimiter='\\t')"
     ],
     "language": "python",
     "metadata": {},
     "outputs": [],
     "prompt_number": 1
    },
    {
     "cell_type": "markdown",
     "metadata": {},
     "source": [
      "Image Feature Extraction function\n",
      "----------------------------------\n",
      "\n",
      "Let us write a function that given the image filename gives out the features of that image using caffe"
     ]
    },
    {
     "cell_type": "code",
     "collapsed": false,
     "input": [
      "def extract_caffe_features(in_net, filename):\n",
      "    \"\"\" Given a filename extracts the caffe features. Returns a tuple of fc7, fc8 features\n",
      "    for each class.\n",
      "    \n",
      "    Argument:\n",
      "        in_net: The caffe net\n",
      "        filename: string path to file\n",
      "    \"\"\"\n",
      "    in_net.blobs['data'].data[...] = transformer.preprocess('data', caffe.io.load_image(filename))\n",
      "    out = in_net.forward()\n",
      "    feat7 = in_net.blobs['fc7'].data[0]\n",
      "    feat8 = in_net.blobs['fc8'].data[0]\n",
      "    return feat7, feat8"
     ],
     "language": "python",
     "metadata": {},
     "outputs": [],
     "prompt_number": 2
    },
    {
     "cell_type": "markdown",
     "metadata": {},
     "source": [
      "Learning\n",
      "----------------------\n",
      "First let us write the code for learning a new class. We need label (text) and the image. Given set of samples of new class to learn. We do these\n",
      "\n",
      "1. If the given label is already present and it is giving high value, stregthen it, if it is low hm.... create a new class and strengthen that while decreasing the older one.\n",
      "1. Get the caffe prob labels, find all above $\\epsilon$ (max 10) ( Should I use softmaxed features?)\n",
      "2. Train a linear classifier on these.\n",
      "3. Label this new classifier output as the given label. Append this as one of the feat8 next time while extracting features."
     ]
    },
    {
     "cell_type": "code",
     "collapsed": false,
     "input": [
      "nc_labels = []  # a list of string, where each string is a label of new class node\n",
      "nc_list = []  # a list of NewClass nodes\n",
      "top_N  = 5  # number of features to select for each new class\n",
      "feat8 = []  # the caffe activation values of layer 8\n",
      "\n",
      "class NewClass():\n",
      "    \"\"\" A new class, a new label created from function of old\"\"\"\n",
      "    def __init__(self, label=None, output=None):\n",
      "        self.label = label if not label is None else None\n",
      "        self.output= output if not output is None else None\n",
      "        inputs = []  # a list of strings, each name of a node.\n",
      "        weights = np.array([])  # a list of numbers, each correspoinding weight \n",
      "        \n",
      "    def get_activation(self):\n",
      "        if self.output is None:\n",
      "            self.output = sum([get_activation_by_label(self.inputs[i]) * self.weights[i] for i in range(len(self.inputs))])\n",
      "        return self.output\n",
      "\n",
      "\n",
      "def activate_all(in_net, filename, new_classes):\n",
      "    \"\"\" Activate all the nodes for given file with name\n",
      "    filename.\"\"\"\n",
      "    feat7, feat8 = extract_caffe_features(in_net, filename)\n",
      "    feat8_nc = [NewClass(caffe_labels[i],feat8[i]) for i in range(len(feat8))] \n",
      "    nc_activations = [nc_node.get_activation() for nc_node in new_classes]\n",
      "    all_activated_nodes =  feat8_nc + nc_activations\n",
      "    return all_activated_nodes\n",
      "\n",
      "def get_all_activation_numbers(all_activated_nodes):\n",
      "    \"\"\" Get the activation values of all nodes\"\"\"\n",
      "    all_activations_numbers = [i.output for i in all_activated_nodes]\n",
      "    return all_activations_numbers\n",
      "\n",
      "def get_top_activated_nodes(all_activated_nodes):\n",
      "    \"\"\" Given a list of acativated nodes, return the top_n highest abs valued \n",
      "    nodes. \"\"\"\n",
      "    all_activations_numbers = get_all_activation_numbers(all_activated_nodes)\n",
      "    top_indices = np.array(all_activations_numbers).argsort()[-1:-top_N:-1]\n",
      "    return [all_activated_nodes[i] for i in top_indices]\n",
      "    \n",
      "def get_activation_by_label(node_label):\n",
      "    \"\"\" Get the activation function of the current node\"\"\"\n",
      "    \n",
      "    if node_label in caffe_labels:\n",
      "        caffe_index = np.where(node_label==caffe_labels)[0]\n",
      "        return feat8[caffe_index]\n",
      "    else:\n",
      "        nc_node = nc_list[nc_labels.index(node_label)]\n",
      "        return nc_node.get_activation()\n",
      "    \n",
      "def visualize_topn(top_an):\n",
      "    \"\"\" given a list of top_n activated nodes, plot them with label\"\"\"\n",
      "    fig = plt.figure()\n",
      "    ax = fig.add_subplot(111)\n",
      "    ax.plot([i.output for i in top_an],'ro')\n",
      "    for i in range(len(top_an)):\n",
      "        ax.text(i+0.1,top_an[i].output,top_an[i].label)"
     ],
     "language": "python",
     "metadata": {},
     "outputs": [],
     "prompt_number": 45
    },
    {
     "cell_type": "markdown",
     "metadata": {},
     "source": [
      "Training function\n",
      "-----------------------------\n",
      "\n",
      "Function needs to take in a new image and a new label and train on that."
     ]
    },
    {
     "cell_type": "code",
     "collapsed": false,
     "input": [
      "def train_local(new_label, new_filename):\n",
      "    \"\"\" pick the highest activated features and create new class\"\"\"\n",
      "    all_activated_nodes = activate_all(net, new_filename, nc_list)\n",
      "    tan = get_top_activated_nodes(all_activated_nodes)\n",
      "    #  Check if the new_label already exists.\n",
      "    if new_label in caffe_labels:\n",
      "        print 'label exists in caffe'\n",
      "        # TODO: for now do nothing, it's already in caffe,\n",
      "        # later might want to strengthen\n",
      "    elif new_label in nc_labels:\n",
      "        print 'label exists in new class'\n",
      "        #  TODO: need to add strengthen concept code\n",
      "    else:\n",
      "        print 'Creating new class called ', new_label\n",
      "        create_new_node(new_label, tan)\n",
      "        \n",
      "def create_new_node(new_label, tan):\n",
      "    \"\"\" Create a new node with given label\"\"\"\n",
      "    new_node = NewClass(new_label)\n",
      "    new_node.inputs = [i.label for i in tan]\n",
      "    #  normalize weights based on activation value\n",
      "    new_weights = np.array([i.output for i in tan])\n",
      "    new_weights = new_weights/max(abs(new_weights))\n",
      "    new_node.weights = new_weights\n",
      "    nc_labels.append(new_label)\n",
      "    nc_list.append(new_node)\n",
      "\n",
      "def train_url(new_label, file_url):\n",
      "    \"\"\" Given a new label and a correspoding image url, train on that.\"\"\"\n",
      "    import urllib\n",
      "    urllib.urlretrieve(file_url, \"TEMP.jpg\")\n",
      "    train_local(new_label, \"TEMP.jpg\")"
     ],
     "language": "python",
     "metadata": {},
     "outputs": [],
     "prompt_number": 46
    },
    {
     "cell_type": "markdown",
     "metadata": {},
     "source": [
      "Test\n",
      "-------------------\n",
      "\n",
      "Let us try with an image of a cat. We are for now considering the case where, the top_N is fixed. "
     ]
    },
    {
     "cell_type": "code",
     "collapsed": false,
     "input": [
      "all_an = activate_all(net,'images/cat.jpg',nc_list)\n",
      "top_an = get_top_activated_nodes(all_an)\n",
      "visualize_topn(top_an)"
     ],
     "language": "python",
     "metadata": {},
     "outputs": [
      {
       "metadata": {},
       "output_type": "display_data",
       "png": "[encoded data removed]",
       "text": [
        "<matplotlib.figure.Figure at 0x7fd11aff3d50>"
       ]
      }
     ],
     "prompt_number": 47
    },
    {
     "cell_type": "code",
     "collapsed": false,
     "input": [
      "train_local('cat','images/cat.jpg')"
     ],
     "language": "python",
     "metadata": {},
     "outputs": [
      {
       "ename": "IndexError",
       "evalue": "list index out of range",
       "output_type": "pyerr",
       "traceback": [
        "\u001b[0;31m---------------------------------------------------------------------------\u001b[0m\n\u001b[0;31mIndexError\u001b[0m                                Traceback (most recent call last)",
        "\u001b[0;32m<ipython-input-49-a6dcf3e67311>\u001b[0m in \u001b[0;36m<module>\u001b[0;34m()\u001b[0m\n\u001b[0;32m----> 1\u001b[0;31m \u001b[0mtrain_local\u001b[0m\u001b[0;34m(\u001b[0m\u001b[0;34m'cat'\u001b[0m\u001b[0;34m,\u001b[0m\u001b[0;34m'images/cat.jpg'\u001b[0m\u001b[0;34m)\u001b[0m\u001b[0;34m\u001b[0m\u001b[0m\n\u001b[0m",
        "\u001b[0;32m<ipython-input-46-e67137b0f53a>\u001b[0m in \u001b[0;36mtrain_local\u001b[0;34m(new_label, new_filename)\u001b[0m\n\u001b[1;32m      1\u001b[0m \u001b[0;32mdef\u001b[0m \u001b[0mtrain_local\u001b[0m\u001b[0;34m(\u001b[0m\u001b[0mnew_label\u001b[0m\u001b[0;34m,\u001b[0m \u001b[0mnew_filename\u001b[0m\u001b[0;34m)\u001b[0m\u001b[0;34m:\u001b[0m\u001b[0;34m\u001b[0m\u001b[0m\n\u001b[1;32m      2\u001b[0m     \u001b[0;34m\"\"\" pick the highest activated features and create new class\"\"\"\u001b[0m\u001b[0;34m\u001b[0m\u001b[0m\n\u001b[0;32m----> 3\u001b[0;31m     \u001b[0mall_activated_nodes\u001b[0m \u001b[0;34m=\u001b[0m \u001b[0mactivate_all\u001b[0m\u001b[0;34m(\u001b[0m\u001b[0mnet\u001b[0m\u001b[0;34m,\u001b[0m \u001b[0mnew_filename\u001b[0m\u001b[0;34m,\u001b[0m \u001b[0mnc_list\u001b[0m\u001b[0;34m)\u001b[0m\u001b[0;34m\u001b[0m\u001b[0m\n\u001b[0m\u001b[1;32m      4\u001b[0m     \u001b[0mtan\u001b[0m \u001b[0;34m=\u001b[0m \u001b[0mget_top_activated_nodes\u001b[0m\u001b[0;34m(\u001b[0m\u001b[0mall_activated_nodes\u001b[0m\u001b[0;34m)\u001b[0m\u001b[0;34m\u001b[0m\u001b[0m\n\u001b[1;32m      5\u001b[0m     \u001b[0;31m#  Check if the new_label already exists.\u001b[0m\u001b[0;34m\u001b[0m\u001b[0;34m\u001b[0m\u001b[0m\n",
        "\u001b[0;32m<ipython-input-45-cb398f7ba4ee>\u001b[0m in \u001b[0;36mactivate_all\u001b[0;34m(in_net, filename, new_classes)\u001b[0m\n\u001b[1;32m     23\u001b[0m     \u001b[0mfeat7\u001b[0m\u001b[0;34m,\u001b[0m \u001b[0mfeat8\u001b[0m \u001b[0;34m=\u001b[0m \u001b[0mextract_caffe_features\u001b[0m\u001b[0;34m(\u001b[0m\u001b[0min_net\u001b[0m\u001b[0;34m,\u001b[0m \u001b[0mfilename\u001b[0m\u001b[0;34m)\u001b[0m\u001b[0;34m\u001b[0m\u001b[0m\n\u001b[1;32m     24\u001b[0m     \u001b[0mfeat8_nc\u001b[0m \u001b[0;34m=\u001b[0m \u001b[0;34m[\u001b[0m\u001b[0mNewClass\u001b[0m\u001b[0;34m(\u001b[0m\u001b[0mcaffe_labels\u001b[0m\u001b[0;34m[\u001b[0m\u001b[0mi\u001b[0m\u001b[0;34m]\u001b[0m\u001b[0;34m,\u001b[0m\u001b[0mfeat8\u001b[0m\u001b[0;34m[\u001b[0m\u001b[0mi\u001b[0m\u001b[0;34m]\u001b[0m\u001b[0;34m)\u001b[0m \u001b[0;32mfor\u001b[0m \u001b[0mi\u001b[0m \u001b[0;32min\u001b[0m \u001b[0mrange\u001b[0m\u001b[0;34m(\u001b[0m\u001b[0mlen\u001b[0m\u001b[0;34m(\u001b[0m\u001b[0mfeat8\u001b[0m\u001b[0;34m)\u001b[0m\u001b[0;34m)\u001b[0m\u001b[0;34m]\u001b[0m\u001b[0;34m\u001b[0m\u001b[0m\n\u001b[0;32m---> 25\u001b[0;31m     \u001b[0mnc_activations\u001b[0m \u001b[0;34m=\u001b[0m \u001b[0;34m[\u001b[0m\u001b[0mnc_node\u001b[0m\u001b[0;34m.\u001b[0m\u001b[0mget_activation\u001b[0m\u001b[0;34m(\u001b[0m\u001b[0;34m)\u001b[0m \u001b[0;32mfor\u001b[0m \u001b[0mnc_node\u001b[0m \u001b[0;32min\u001b[0m \u001b[0mnew_classes\u001b[0m\u001b[0;34m]\u001b[0m\u001b[0;34m\u001b[0m\u001b[0m\n\u001b[0m\u001b[1;32m     26\u001b[0m     \u001b[0mall_activated_nodes\u001b[0m \u001b[0;34m=\u001b[0m  \u001b[0mfeat8_nc\u001b[0m \u001b[0;34m+\u001b[0m \u001b[0mnc_activations\u001b[0m\u001b[0;34m\u001b[0m\u001b[0m\n\u001b[1;32m     27\u001b[0m     \u001b[0;32mreturn\u001b[0m \u001b[0mall_activated_nodes\u001b[0m\u001b[0;34m\u001b[0m\u001b[0m\n",
        "\u001b[0;32m<ipython-input-45-cb398f7ba4ee>\u001b[0m in \u001b[0;36mget_activation\u001b[0;34m(self)\u001b[0m\n\u001b[1;32m     14\u001b[0m     \u001b[0;32mdef\u001b[0m \u001b[0mget_activation\u001b[0m\u001b[0;34m(\u001b[0m\u001b[0mself\u001b[0m\u001b[0;34m)\u001b[0m\u001b[0;34m:\u001b[0m\u001b[0;34m\u001b[0m\u001b[0m\n\u001b[1;32m     15\u001b[0m         \u001b[0;32mif\u001b[0m \u001b[0mself\u001b[0m\u001b[0;34m.\u001b[0m\u001b[0moutput\u001b[0m \u001b[0;32mis\u001b[0m \u001b[0mNone\u001b[0m\u001b[0;34m:\u001b[0m\u001b[0;34m\u001b[0m\u001b[0m\n\u001b[0;32m---> 16\u001b[0;31m             \u001b[0mself\u001b[0m\u001b[0;34m.\u001b[0m\u001b[0moutput\u001b[0m \u001b[0;34m=\u001b[0m \u001b[0msum\u001b[0m\u001b[0;34m(\u001b[0m\u001b[0;34m[\u001b[0m\u001b[0mget_activation_by_label\u001b[0m\u001b[0;34m(\u001b[0m\u001b[0mself\u001b[0m\u001b[0;34m.\u001b[0m\u001b[0minputs\u001b[0m\u001b[0;34m[\u001b[0m\u001b[0mi\u001b[0m\u001b[0;34m]\u001b[0m\u001b[0;34m)\u001b[0m \u001b[0;34m*\u001b[0m \u001b[0mself\u001b[0m\u001b[0;34m.\u001b[0m\u001b[0mweights\u001b[0m\u001b[0;34m[\u001b[0m\u001b[0mi\u001b[0m\u001b[0;34m]\u001b[0m \u001b[0;32mfor\u001b[0m \u001b[0mi\u001b[0m \u001b[0;32min\u001b[0m \u001b[0mrange\u001b[0m\u001b[0;34m(\u001b[0m\u001b[0mlen\u001b[0m\u001b[0;34m(\u001b[0m\u001b[0mself\u001b[0m\u001b[0;34m.\u001b[0m\u001b[0minputs\u001b[0m\u001b[0;34m)\u001b[0m\u001b[0;34m)\u001b[0m\u001b[0;34m]\u001b[0m\u001b[0;34m)\u001b[0m\u001b[0;34m\u001b[0m\u001b[0m\n\u001b[0m\u001b[1;32m     17\u001b[0m         \u001b[0;32mreturn\u001b[0m \u001b[0mself\u001b[0m\u001b[0;34m.\u001b[0m\u001b[0moutput\u001b[0m\u001b[0;34m\u001b[0m\u001b[0m\n\u001b[1;32m     18\u001b[0m \u001b[0;34m\u001b[0m\u001b[0m\n",
        "\u001b[0;32m<ipython-input-45-cb398f7ba4ee>\u001b[0m in \u001b[0;36mget_activation_by_label\u001b[0;34m(node_label)\u001b[0m\n\u001b[1;32m     44\u001b[0m     \u001b[0;32mif\u001b[0m \u001b[0mnode_label\u001b[0m \u001b[0;32min\u001b[0m \u001b[0mcaffe_labels\u001b[0m\u001b[0;34m:\u001b[0m\u001b[0;34m\u001b[0m\u001b[0m\n\u001b[1;32m     45\u001b[0m         \u001b[0mcaffe_index\u001b[0m \u001b[0;34m=\u001b[0m \u001b[0mnp\u001b[0m\u001b[0;34m.\u001b[0m\u001b[0mwhere\u001b[0m\u001b[0;34m(\u001b[0m\u001b[0mnode_label\u001b[0m\u001b[0;34m==\u001b[0m\u001b[0mcaffe_labels\u001b[0m\u001b[0;34m)\u001b[0m\u001b[0;34m[\u001b[0m\u001b[0;36m0\u001b[0m\u001b[0;34m]\u001b[0m\u001b[0;34m\u001b[0m\u001b[0m\n\u001b[0;32m---> 46\u001b[0;31m         \u001b[0;32mreturn\u001b[0m \u001b[0mfeat8\u001b[0m\u001b[0;34m[\u001b[0m\u001b[0mcaffe_index\u001b[0m\u001b[0;34m]\u001b[0m\u001b[0;34m\u001b[0m\u001b[0m\n\u001b[0m\u001b[1;32m     47\u001b[0m     \u001b[0;32melse\u001b[0m\u001b[0;34m:\u001b[0m\u001b[0;34m\u001b[0m\u001b[0m\n\u001b[1;32m     48\u001b[0m         \u001b[0mnc_node\u001b[0m \u001b[0;34m=\u001b[0m \u001b[0mnc_list\u001b[0m\u001b[0;34m[\u001b[0m\u001b[0mnc_labels\u001b[0m\u001b[0;34m.\u001b[0m\u001b[0mindex\u001b[0m\u001b[0;34m(\u001b[0m\u001b[0mnode_label\u001b[0m\u001b[0;34m)\u001b[0m\u001b[0;34m]\u001b[0m\u001b[0;34m\u001b[0m\u001b[0m\n",
        "\u001b[0;31mIndexError\u001b[0m: list index out of range"
       ]
      }
     ],
     "prompt_number": 49
    },
    {
     "cell_type": "code",
     "collapsed": false,
     "input": [
      "feat8"
     ],
     "language": "python",
     "metadata": {},
     "outputs": [
      {
       "metadata": {},
       "output_type": "pyout",
       "prompt_number": 50,
       "text": [
        "[]"
       ]
      }
     ],
     "prompt_number": 50
    },
    {
     "cell_type": "code",
     "collapsed": false,
     "input": [
      "url = 'http://media.catmoji.com/post/ujg/cat-in-hat.jpg'"
     ],
     "language": "python",
     "metadata": {},
     "outputs": [],
     "prompt_number": 10
    }
   ],
   "metadata": {}
  }
 ]
}