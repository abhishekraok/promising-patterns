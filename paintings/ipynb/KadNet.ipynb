{
 "metadata": {
  "name": ""
 },
 "nbformat": 3,
 "nbformat_minor": 0,
 "worksheets": [
  {
   "cells": [
    {
     "cell_type": "markdown",
     "metadata": {},
     "source": [
      "Kadnet\n",
      "=========================\n",
      "\n",
      "Kadnet is a way to grow huge Neural network via local training. We start with our  base which is a pre-trained network, then we grow on that by giving new labeled image. \n",
      "\n",
      "Training Procedure\n",
      "-----------------------\n",
      "1. Give **N** new labeled image, check the top **max_features** active features in each of these. Create a new node labeled as the given label and with the simplest transorm that activates this node only for the given images and not others.\n"
     ]
    },
    {
     "cell_type": "markdown",
     "metadata": {},
     "source": [
      "Initialize the standard code"
     ]
    },
    {
     "cell_type": "code",
     "collapsed": false,
     "input": [
      "import numpy as np\n",
      "import matplotlib.pyplot as plt\n",
      "%matplotlib inline\n",
      "\n",
      "# Make sure that caffe is on the python path:\n",
      "caffe_root = '../'  # this file is expected to be in {caffe_root}/examples\n",
      "import sys\n",
      "sys.path.insert(0, caffe_root + 'python')\n",
      "\n",
      "import caffe\n",
      "\n",
      "plt.rcParams['figure.figsize'] = (10, 10)\n",
      "plt.rcParams['image.interpolation'] = 'nearest'\n",
      "plt.rcParams['image.cmap'] = 'gray'\n",
      "\n",
      "import os\n",
      "if not os.path.isfile(caffe_root + 'models/bvlc_reference_caffenet/bvlc_reference_caffenet.caffemodel'):\n",
      "    print(\"Downloading pre-trained CaffeNet model...\")\n",
      "    !../scripts/download_model_binary.py ../models/bvlc_reference_caffenet\n",
      "    \n",
      "caffe.set_mode_cpu()\n",
      "net = caffe.Net(caffe_root + 'models/bvlc_reference_caffenet/deploy.prototxt',\n",
      "                caffe_root + 'models/bvlc_reference_caffenet/bvlc_reference_caffenet.caffemodel',\n",
      "                caffe.TEST)\n",
      "\n",
      "# input preprocessing: 'data' is the name of the input blob == net.inputs[0]\n",
      "transformer = caffe.io.Transformer({'data': net.blobs['data'].data.shape})\n",
      "transformer.set_transpose('data', (2,0,1))\n",
      "transformer.set_mean('data', np.load(caffe_root + 'python/caffe/imagenet/ilsvrc_2012_mean.npy').mean(1).mean(1)) # mean pixel\n",
      "transformer.set_raw_scale('data', 255)  # the reference model operates on images in [0,255] range instead of [0,1]\n",
      "transformer.set_channel_swap('data', (2,1,0))  # the reference model has channels in BGR order instead of RGB\n",
      "net.blobs['data'].reshape(1,3,227,227)  # change from batch of 10 to 1\n",
      "# Originally it is (10,3,227,227)\n",
      "\n",
      "# load labels\n",
      "imagenet_labels_filename = caffe_root + 'data/ilsvrc12/synset_words.txt'\n",
      "try:\n",
      "    caffe_labels = np.loadtxt(imagenet_labels_filename, str, delimiter='\\t')\n",
      "except:\n",
      "    !../data/ilsvrc12/get_ilsvrc_aux.sh\n",
      "    caffe_labels = np.loadtxt(imagenet_labels_filename, str, delimiter='\\t')"
     ],
     "language": "python",
     "metadata": {},
     "outputs": [],
     "prompt_number": 4
    },
    {
     "cell_type": "markdown",
     "metadata": {},
     "source": [
      "Image Feature Extraction function\n",
      "----------------------------------\n",
      "\n",
      "Let us write a function that given the image filename gives out the features of that image using caffe"
     ]
    },
    {
     "cell_type": "code",
     "collapsed": false,
     "input": [
      "def extract_caffe_features(in_net, filename):\n",
      "    \"\"\" Given a filename extracts the caffe features. Returns a tuple of fc7, fc8 features\n",
      "    for each class.\n",
      "    \n",
      "    Argument:\n",
      "        in_net: The caffe net\n",
      "        filename: string path to file\n",
      "    \"\"\"\n",
      "    in_net.blobs['data'].data[...] = transformer.preprocess('data', caffe.io.load_image(filename))\n",
      "    out = in_net.forward()\n",
      "    feat7 = in_net.blobs['fc7'].data[0]\n",
      "    feat8 = in_net.blobs['fc8'].data[0]\n",
      "    return feat7, feat8"
     ],
     "language": "python",
     "metadata": {},
     "outputs": [],
     "prompt_number": 5
    },
    {
     "cell_type": "markdown",
     "metadata": {},
     "source": [
      "Learning\n",
      "----------------------\n",
      "First let us write the code for learning a new class. We need label (text) and the image. Given set of samples of new class to learn. We do these\n",
      "\n",
      "1. If the given label is already present and it is giving high value, stregthen it, if it is low hm.... create a new class and strengthen that while decreasing the older one.\n",
      "1. Get the caffe prob labels, find all above $\\epsilon$ (max 10) ( Should I use softmaxed features?)\n",
      "2. Train a linear classifier on these.\n",
      "3. Label this new classifier output as the given label. Append this as one of the feat8 next time while extracting features."
     ]
    },
    {
     "cell_type": "code",
     "collapsed": false,
     "input": [
      "b = np.arange(9)\n",
      "b.argsort()[-1:-6:-1]\n",
      "c = ["
     ],
     "language": "python",
     "metadata": {},
     "outputs": [
      {
       "metadata": {},
       "output_type": "pyout",
       "prompt_number": 6,
       "text": [
        "array([8, 7, 6, 5, 4])"
       ]
      }
     ],
     "prompt_number": 6
    },
    {
     "cell_type": "code",
     "collapsed": false,
     "input": [
      "single_input = {'label':0}\n",
      "\n",
      "class NewClass():\n",
      "    \"\"\" A new class, a new label created from function of old\"\"\"\n",
      "    def __init__(self, label=None):\n",
      "        self.label = label if not labe is None else None\n",
      "        inputs = []\n",
      "        output = 0\n",
      "        \n",
      "    def get_activation(self, ):\n",
      "        pass\n",
      "    \n",
      "        "
     ],
     "language": "python",
     "metadata": {},
     "outputs": []
    },
    {
     "cell_type": "code",
     "collapsed": false,
     "input": [
      "def get_all_features(in_net, filename, new_classes):\n",
      "    \"\"\" Get the activation values of all nodes\"\"\"\n",
      "    activation_list = [node_i.get_activation()]\n",
      "    feat7, feat8 = extract_caffe_features(in_net, filename)\n",
      "    feat7_ld = [ {'fc7_'+str(i):j for i,j in zip(range(len(feat7)),feat7)]\n",
      "    feat8_ld = [ {i:j for i,j in zip(caffe_labels,feat7)]\n",
      "    all_activations = activation_list + feat7_ld + feat8_ld\n",
      "    return all_activations\n",
      "\n",
      "def create_new(activations_list):\n",
      "    \"\"\" pick the highest activated features and create new class\"\"\"\n"
     ],
     "language": "python",
     "metadata": {},
     "outputs": []
    }
   ],
   "metadata": {}
  }
 ]
}