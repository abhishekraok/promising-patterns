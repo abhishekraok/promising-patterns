{
 "metadata": {
  "name": ""
 },
 "nbformat": 3,
 "nbformat_minor": 0,
 "worksheets": [
  {
   "cells": [
    {
     "cell_type": "markdown",
     "metadata": {},
     "source": [
      "Kadnet\n",
      "=========================\n",
      "\n",
      "Kadnet is a way to grow huge Neural network via local training. We start with our  base which is a pre-trained network, then we grow on that by giving new labeled image. \n",
      "\n",
      "Training Procedure\n",
      "-----------------------\n",
      "1. Give **N** new labeled image, check the top **max_features** active features in each of these. Create a new node labeled as the given label and with the simplest transorm that activates this node only for the given images and not others.\n"
     ]
    },
    {
     "cell_type": "markdown",
     "metadata": {},
     "source": [
      "Initialize the standard code"
     ]
    },
    {
     "cell_type": "code",
     "collapsed": false,
     "input": [
      "import numpy as np\n",
      "import matplotlib.pyplot as plt\n",
      "%matplotlib inline\n",
      "\n",
      "# Make sure that caffe is on the python path:\n",
      "caffe_root = '../'  # this file is expected to be in {caffe_root}/examples\n",
      "import sys\n",
      "sys.path.insert(0, caffe_root + 'python')\n",
      "\n",
      "import caffe\n",
      "\n",
      "plt.rcParams['figure.figsize'] = (10, 10)\n",
      "plt.rcParams['image.interpolation'] = 'nearest'\n",
      "plt.rcParams['image.cmap'] = 'gray'\n",
      "\n",
      "import os\n",
      "if not os.path.isfile(caffe_root + 'models/bvlc_reference_caffenet/bvlc_reference_caffenet.caffemodel'):\n",
      "    print(\"Downloading pre-trained CaffeNet model...\")\n",
      "    !../scripts/download_model_binary.py ../models/bvlc_reference_caffenet\n",
      "    \n",
      "caffe.set_mode_cpu()\n",
      "net = caffe.Net(caffe_root + 'models/bvlc_reference_caffenet/deploy.prototxt',\n",
      "                caffe_root + 'models/bvlc_reference_caffenet/bvlc_reference_caffenet.caffemodel',\n",
      "                caffe.TEST)\n",
      "\n",
      "# input preprocessing: 'data' is the name of the input blob == net.inputs[0]\n",
      "transformer = caffe.io.Transformer({'data': net.blobs['data'].data.shape})\n",
      "transformer.set_transpose('data', (2,0,1))\n",
      "transformer.set_mean('data', np.load(caffe_root + 'python/caffe/imagenet/ilsvrc_2012_mean.npy').mean(1).mean(1)) # mean pixel\n",
      "transformer.set_raw_scale('data', 255)  # the reference model operates on images in [0,255] range instead of [0,1]\n",
      "transformer.set_channel_swap('data', (2,1,0))  # the reference model has channels in BGR order instead of RGB\n",
      "net.blobs['data'].reshape(1,3,227,227)  # change from batch of 10 to 1\n",
      "# Originally it is (10,3,227,227)\n",
      "\n",
      "# load labels\n",
      "imagenet_labels_filename = caffe_root + 'data/ilsvrc12/synset_words.txt'\n",
      "try:\n",
      "    caffe_labels = np.loadtxt(imagenet_labels_filename, str, delimiter='\\t')\n",
      "except:\n",
      "    !../data/ilsvrc12/get_ilsvrc_aux.sh\n",
      "    caffe_labels = np.loadtxt(imagenet_labels_filename, str, delimiter='\\t')"
     ],
     "language": "python",
     "metadata": {},
     "outputs": [],
     "prompt_number": 51
    },
    {
     "cell_type": "markdown",
     "metadata": {},
     "source": [
      "Image Feature Extraction function\n",
      "----------------------------------\n",
      "\n",
      "Let us write a function that given the image filename gives out the features of that image using caffe"
     ]
    },
    {
     "cell_type": "code",
     "collapsed": false,
     "input": [
      "def extract_caffe_features(in_net, filename):\n",
      "    \"\"\" Given a filename extracts the caffe features. Returns a tuple of fc7, fc8 features\n",
      "    for each class.\n",
      "    \n",
      "    Argument:\n",
      "        in_net: The caffe net\n",
      "        filename: string path to file\n",
      "    \"\"\"\n",
      "    in_net.blobs['data'].data[...] = transformer.preprocess('data', caffe.io.load_image(filename))\n",
      "    out = in_net.forward()\n",
      "    feat7 = in_net.blobs['fc7'].data[0]\n",
      "    feat8 = in_net.blobs['fc8'].data[0]\n",
      "    return feat7, feat8"
     ],
     "language": "python",
     "metadata": {},
     "outputs": [],
     "prompt_number": 57
    },
    {
     "cell_type": "markdown",
     "metadata": {},
     "source": [
      "Learning\n",
      "----------------------\n",
      "First let us write the code for learning a new class. We need label (text) and the image. Given set of samples of new class to learn. We do these\n",
      "\n",
      "1. If the given label is already present and it is giving high value, stregthen it, if it is low hm.... create a new class and strengthen that while decreasing the older one.\n",
      "1. Get the caffe prob labels, find all above $\\epsilon$ (max 10) ( Should I use softmaxed features?)\n",
      "2. Train a linear classifier on these.\n",
      "3. Label this new classifier output as the given label. Append this as one of the feat8 next time while extracting features."
     ]
    },
    {
     "cell_type": "code",
     "collapsed": false,
     "input": [
      "top_N  = 5  # number of features to select for each new class\n",
      "number_caffe_labels = len(caffe_labels)\n",
      "\n",
      "\n",
      "class NewClass():\n",
      "    \"\"\" A new class, a new label created from function of old\"\"\"\n",
      "    def __init__(self, label=None, output=None):\n",
      "        self.label = label if not label is None else None\n",
      "        self.output= output if not output is None else None\n",
      "        inputs = []  # a list of strings, each name of a node.\n",
      "        weights = np.array([])  # a list of numbers, each correspoinding weight \n",
      "        \n",
      "    def get_activation(self):\n",
      "        if self.output is None:\n",
      "            self.output = sum([get_activation_by_label(self.inputs[i]) * self.weights[i] for i in range(len(self.inputs))])\n",
      "        return self.output\n",
      "\n",
      "all_nodes = [NewClass(label=i) for i in caffe_labels] \n",
      "all_labels = caffe_labels\n",
      "\n",
      "def activate_all(in_net, filename):\n",
      "    \"\"\" Activate all the nodes for given file with name\n",
      "    filename.\"\"\"\n",
      "    global all_nodes\n",
      "    feat7, feat8 = extract_caffe_features(in_net, filename)\n",
      "    for i in range(number_caffe_labels):\n",
      "        all_nodes[i].output = feat8[i]\n",
      "    for i in range(number_caffe_labels,len(all_nodes)):\n",
      "        all_nodes[i].get_activation()\n",
      "\n",
      "def get_top_activated_nodes():\n",
      "    \"\"\" Given a list of acativated nodes, return the top_n highest abs valued \n",
      "    nodes. \"\"\"\n",
      "    all_activations_numbers = [i.output for i in all_nodes]\n",
      "    top_indices = np.array(all_activations_numbers).argsort()[-1:-top_N:-1]\n",
      "    return [all_nodes[i] for i in top_indices]\n",
      "    \n",
      "def get_activation_by_label(node_label):\n",
      "    \"\"\" Get the activation function of the current node\"\"\"\n",
      "    all_labels = [i.label for i in all_nodes]\n",
      "    nc_node = all_nodes[all_labels.index(node_label)]\n",
      "    return nc_node.get_activation()\n",
      "    \n",
      "def visualize_topn(top_an):\n",
      "    \"\"\" given a list of top_n activated nodes, plot them with label\"\"\"\n",
      "    fig = plt.figure()\n",
      "    ax = fig.add_subplot(111)\n",
      "    ax.plot([i.output for i in top_an],'ro')\n",
      "    for i in range(len(top_an)):\n",
      "        ax.text(i+0.1,top_an[i].output,top_an[i].label)"
     ],
     "language": "python",
     "metadata": {},
     "outputs": [],
     "prompt_number": 122
    },
    {
     "cell_type": "markdown",
     "metadata": {},
     "source": [
      "Training function\n",
      "-----------------------------\n",
      "\n",
      "Function needs to take in a new image and a new label and train on that."
     ]
    },
    {
     "cell_type": "code",
     "collapsed": false,
     "input": [
      "def train_local(new_label, new_filename):\n",
      "    \"\"\" pick the highest activated features and create new class\"\"\"\n",
      "    activate_all(net, new_filename)\n",
      "    tan = get_top_activated_nodes()\n",
      "    #  Check if the new_label already exists.\n",
      "    all_labels = [i.label for i in all_nodes]\n",
      "    if new_label in all_labels:\n",
      "        print 'label exists'\n",
      "        # TODO: for now do nothing, it's already in caffe,\n",
      "        # later might want to strengthen\n",
      "    else:\n",
      "        print 'Creating new class called ', new_label\n",
      "        create_new_node(new_label, tan)\n",
      "        \n",
      "def create_new_node(new_label, tan):\n",
      "    \"\"\" Create a new node with given label\"\"\"\n",
      "    new_node = NewClass(new_label)\n",
      "    new_node.inputs = [i.label for i in tan]\n",
      "    #  normalize weights based on activation value\n",
      "    new_weights = np.array([i.output for i in tan])\n",
      "    new_weights = new_weights/sum(abs(new_weights))\n",
      "    new_node.weights = new_weights\n",
      "    global all_nodes\n",
      "    all_nodes.append(new_node)\n",
      "\n",
      "def dl_image(file_url):\n",
      "    \"\"\" given url download the image and save it as TEMP.jpg\"\"\"\n",
      "    import urllib2\n",
      "    hdr = {'User-Agent': 'Mozilla/5.0 (X11; Linux x86_64) AppleWebKit/537.11 (KHTML, like Gecko) Chrome/23.0.1271.64 Safari/537.11',\n",
      "           'Accept': 'text/html,application/xhtml+xml,application/xml;q=0.9,*/*;q=0.8',\n",
      "           'Accept-Charset': 'ISO-8859-1,utf-8;q=0.7,*;q=0.3',\n",
      "           'Accept-Encoding': 'none',\n",
      "           'Accept-Language': 'en-US,en;q=0.8',\n",
      "           'Connection': 'keep-alive'}\n",
      "    req = urllib2.Request(file_url, headers=hdr)\n",
      "    response = urllib2.urlopen(req)\n",
      "    with open('TEMP.jpg', 'wb') as outfile:\n",
      "        outfile.write(response.read())\n",
      "        \n",
      "def train_url(new_label, file_url):\n",
      "    \"\"\" Given a new label and a correspoding image url, train on that.\"\"\"\n",
      "    dl_image(file_url)\n",
      "    train_local(new_label, \"TEMP.jpg\")"
     ],
     "language": "python",
     "metadata": {},
     "outputs": [],
     "prompt_number": 128
    },
    {
     "cell_type": "markdown",
     "metadata": {},
     "source": [
      "Testing function\n",
      "------------------------------\n",
      "Given a local image or a url test the kadnet on that"
     ]
    },
    {
     "cell_type": "code",
     "collapsed": false,
     "input": [
      "def test_local(new_filename):\n",
      "    activate_all(net, new_filename)\n",
      "    tan = get_top_activated_nodes()\n",
      "    visualize_topn(tan)\n",
      "\n",
      "def test_url(new_filename):\n",
      "    dl_image(file_url)\n",
      "    test_local(\"TEMP.jpg\")\n",
      "    \n",
      "def test(new_filename):\n",
      "    \"\"\"Given file or url activate kadnet and pick the topn highest labels.\n",
      "    \n",
      "    First determine whetherr url or file by checking if file exists.\"\"\"\n",
      "    import os\n",
      "    if os.path.isfile(new_filename):\n",
      "        test_local(new_filename)\n",
      "    elif os.path.islink(new_filename):          \n",
      "        test_url(new_filename)\n",
      "    else:\n",
      "        print 'Error: not a file or url'"
     ],
     "language": "python",
     "metadata": {},
     "outputs": [],
     "prompt_number": 132
    },
    {
     "cell_type": "markdown",
     "metadata": {},
     "source": [
      "Test\n",
      "-------------------\n",
      "\n",
      "Let us try with an image of a cat. We are for now considering the case where, the top_N is fixed. "
     ]
    },
    {
     "cell_type": "code",
     "collapsed": false,
     "input": [
      "url = 'http://media.catmoji.com/post/ujg/cat-in-hat.jpg'\n",
      "test_url(url)"
     ],
     "language": "python",
     "metadata": {},
     "outputs": [
      {
       "metadata": {},
       "output_type": "display_data",
       "png": "[encoded data removed]",
       "text": [
        "<matplotlib.figure.Figure at 0x7fd129ba52d0>"
       ]
      }
     ],
     "prompt_number": 133
    },
    {
     "cell_type": "code",
     "collapsed": false,
     "input": [
      "file_url = 'http://media.catmoji.com/post/ujg/cat-in-hat.jpg'\n",
      "train_url('cat hat',file_url)"
     ],
     "language": "python",
     "metadata": {},
     "outputs": [
      {
       "output_type": "stream",
       "stream": "stdout",
       "text": [
        "label exists\n"
       ]
      }
     ],
     "prompt_number": 131
    },
    {
     "cell_type": "code",
     "collapsed": false,
     "input": [
      "[i.weights for i in all_nodes[-1:] ]"
     ],
     "language": "python",
     "metadata": {},
     "outputs": [
      {
       "metadata": {},
       "output_type": "pyout",
       "prompt_number": 139,
       "text": [
        "[array([ 1.        ,  0.99439782,  0.90486687,  0.88432032], dtype=float32)]"
       ]
      }
     ],
     "prompt_number": 139
    },
    {
     "cell_type": "code",
     "collapsed": false,
     "input": [],
     "language": "python",
     "metadata": {},
     "outputs": []
    }
   ],
   "metadata": {}
  }
 ]
}