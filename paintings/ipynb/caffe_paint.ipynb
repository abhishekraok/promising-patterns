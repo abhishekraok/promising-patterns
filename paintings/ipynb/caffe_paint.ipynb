{
 "metadata": {
  "description": "Extracting features and visualizing trained filters with an example image, viewed layer-by-layer.",
  "example_name": "Filter visualization",
  "include_in_docs": true,
  "name": "",
  "priority": 2,
  "signature": "sha256:64c88129e2eeaa956e4c8a26467ff6119f24ea3d7ef15f8217326249973bea8f"
 },
 "nbformat": 3,
 "nbformat_minor": 0,
 "worksheets": [
  {
   "cells": [
    {
     "cell_type": "markdown",
     "metadata": {},
     "source": [
      "Caffe classifier\n",
      "================================\n",
      "\n",
      "We use the feature extraction function of caffe to classify our images. Here we have modified the filter visualization example in the caffe library."
     ]
    },
    {
     "cell_type": "markdown",
     "metadata": {},
     "source": [
      "First, import required modules, set plotting parameters, and run `./scripts/download_model_binary.py models/bvlc_reference_caffenet` to get the pretrained CaffeNet model if it hasn't already been fetched.\n",
      "\n",
      "1. Initialize"
     ]
    },
    {
     "cell_type": "code",
     "collapsed": false,
     "input": [
      "import numpy as np\n",
      "import matplotlib.pyplot as plt\n",
      "from sklearn.cross_validation import train_test_split\n",
      "from sklearn.svm import LinearSVC\n",
      "from sklearn.multiclass import OneVsRestClassifier\n",
      "import os\n",
      "%matplotlib inline\n",
      "\n",
      "# Make sure that caffe is on the python path:\n",
      "caffe_root = '../'  # this file is expected to be in {caffe_root}/examples\n",
      "import sys\n",
      "sys.path.insert(0, caffe_root + 'python')\n",
      "\n",
      "import caffe\n",
      "\n",
      "plt.rcParams['figure.figsize'] = (10, 10)\n",
      "plt.rcParams['image.interpolation'] = 'nearest'\n",
      "plt.rcParams['image.cmap'] = 'gray'\n",
      "\n",
      "if not os.path.isfile(caffe_root + 'models/bvlc_reference_caffenet/bvlc_reference_caffenet.caffemodel'):\n",
      "    print(\"Downloading pre-trained CaffeNet model...\")\n",
      "    !../scripts/download_model_binary.py ../models/bvlc_reference_caffenet\n",
      "    \n",
      "caffe.set_mode_cpu()\n",
      "net = caffe.Net(caffe_root + 'models/bvlc_reference_caffenet/deploy.prototxt',\n",
      "                caffe_root + 'models/bvlc_reference_caffenet/bvlc_reference_caffenet.caffemodel',\n",
      "                caffe.TEST)\n",
      "\n",
      "# input preprocessing: 'data' is the name of the input blob == net.inputs[0]\n",
      "transformer = caffe.io.Transformer({'data': net.blobs['data'].data.shape})\n",
      "transformer.set_transpose('data', (2,0,1))\n",
      "transformer.set_mean('data', np.load(caffe_root + 'python/caffe/imagenet/ilsvrc_2012_mean.npy').mean(1).mean(1)) # mean pixel\n",
      "transformer.set_raw_scale('data', 255)  # the reference model operates on images in [0,255] range instead of [0,1]\n",
      "transformer.set_channel_swap('data', (2,1,0))  # the reference model has channels in BGR order instead of RGB"
     ],
     "language": "python",
     "metadata": {},
     "outputs": [],
     "prompt_number": 1
    },
    {
     "cell_type": "markdown",
     "metadata": {},
     "source": [
      "Loading the classes and labels"
     ]
    },
    {
     "cell_type": "code",
     "collapsed": false,
     "input": [
      "# ############################# load data###############\n",
      "data_dir = '/home/student/ln_onedrive/code/promising-patterns/paintings/data/two_class_full_size/'\n",
      "import os\n",
      "from glob import glob\n",
      "classes = [i for i in os.listdir(data_dir) if os.path.isdir(data_dir + i)]\n",
      "# DEBUG faster \n",
      "classes = classes[:2]\n",
      "number_of_classes = len(classes)\n",
      "print 'Getting data from ', os.path.abspath(data_dir)\n",
      "print 'The classes are ', classes\n",
      "\n",
      "# load labels\n",
      "imagenet_labels_filename = caffe_root + 'data/ilsvrc12/synset_words.txt'\n",
      "try:\n",
      "    caffe_labels = np.loadtxt(imagenet_labels_filename, str, delimiter='\\t')\n",
      "except:\n",
      "    !../data/ilsvrc12/get_ilsvrc_aux.sh\n",
      "    caffe_labels = np.loadtxt(imagenet_labels_filename, str, delimiter='\\t')"
     ],
     "language": "python",
     "metadata": {},
     "outputs": [
      {
       "output_type": "stream",
       "stream": "stdout",
       "text": [
        "Getting data from  /home/student/ln_onedrive/code/promising-patterns/paintings/data/two_class_full_size\n",
        "The classes are  ['color-field-painting', 'expressionism']\n"
       ]
      }
     ],
     "prompt_number": 2
    },
    {
     "cell_type": "markdown",
     "metadata": {},
     "source": [
      "Image Feature Extraction function\n",
      "----------------------------------\n",
      "\n",
      "Let us write a function that given the image filename gives out the features of that image using caffe"
     ]
    },
    {
     "cell_type": "code",
     "collapsed": false,
     "input": [
      "net.blobs['data'].reshape(1,3,227,227)  # change from batch of 10 to 1\n",
      "# Originally it is (10,3,227,227)\n",
      "\n",
      "def extract_caffe_features(in_net, filename):\n",
      "    \"\"\" Given a filename extracts the caffe features.\n",
      "    \n",
      "    Argument:\n",
      "        in_net: The caffe net\n",
      "        filename: string path to file\n",
      "    \"\"\"\n",
      "    in_net.blobs['data'].data[...] = transformer.preprocess('data', caffe.io.load_image(filename))\n",
      "    in_net.forward()\n",
      "    feat = in_net.blobs['fc7'].data[0]\n",
      "    return feat"
     ],
     "language": "python",
     "metadata": {},
     "outputs": [],
     "prompt_number": 3
    },
    {
     "cell_type": "markdown",
     "metadata": {},
     "source": [
      "Load Data\n",
      "--------------\n",
      "\n",
      "The layer features and their shapes (1 is the batch size, corresponding to the single input image in this example). For some strange reason I have to save it to file, am not able to append lists. Some python problem."
     ]
    },
    {
     "cell_type": "code",
     "collapsed": false,
     "input": [
      "feature_file_name = 'ex_features.csv'\n",
      "try:\n",
      "    os.remove(feature_file_name)\n",
      "except OSError:\n",
      "    pass\n",
      "folder_labels = []  # indicates which class it belongs to\n",
      "for current_class in range(number_of_classes):  # For each genre\n",
      "    current_genre_file_list = glob(data_dir + classes[current_class] + '/*.jpg')  # List all the filenames\n",
      "    for image_i in current_genre_file_list:\n",
      "        caff_feat = extract_caffe_features(net,image_i)\n",
      "        with open(feature_file_name,'a') as f_handle:\n",
      "            np.savetxt(f_handle,caff_feat,delimiter=',')\n",
      "        folder_labels.append(current_class)\n",
      "\n",
      "X2 = np.loadtxt(feature_file_name)\n",
      "X = X2.reshape(len(folder_labels),-1)\n",
      "X.shape"
     ],
     "language": "python",
     "metadata": {},
     "outputs": [
      {
       "metadata": {},
       "output_type": "pyout",
       "prompt_number": 4,
       "text": [
        "(3675, 4096)"
       ]
      }
     ],
     "prompt_number": 4
    },
    {
     "cell_type": "markdown",
     "metadata": {},
     "source": [
      "Plot few of them to see"
     ]
    },
    {
     "cell_type": "code",
     "collapsed": false,
     "input": [
      "for i in range(4):\n",
      "    plt.subplot(2,2,i)\n",
      "    plt.plot(X[i,:][:80])\n",
      "    plt.title(folder_labels[i])\n"
     ],
     "language": "python",
     "metadata": {},
     "outputs": [
      {
       "metadata": {},
       "output_type": "display_data",
       "png": "[encoded data removed]",
       "text": [
        "<matplotlib.figure.Figure at 0x7ff0fc73a8d0>"
       ]
      }
     ],
     "prompt_number": 5
    },
    {
     "cell_type": "markdown",
     "metadata": {},
     "source": [
      "Split the data into test and training set."
     ]
    },
    {
     "cell_type": "code",
     "collapsed": false,
     "input": [
      "from sklearn.cross_validation import train_test_split\n",
      "X_train, X_test, y_train, y_test = train_test_split(X,folder_labels)"
     ],
     "language": "python",
     "metadata": {},
     "outputs": [],
     "prompt_number": 6
    },
    {
     "cell_type": "markdown",
     "metadata": {},
     "source": [
      "Classification (Linear)\n",
      "------------------------------------\n",
      "\n",
      "Now that the features are extracted, let us use a simple linear classifier to classify the two classes. Since this is expected to have sparse features, let us use L1 penalty to remove all smaller features."
     ]
    },
    {
     "cell_type": "code",
     "collapsed": false,
     "input": [
      "# Linear classifier\n",
      "from sklearn.svm import LinearSVC\n",
      "clf = LinearSVC(C=0.01, penalty=\"l1\", dual=False)\n",
      "y_pred = clf.fit(X_train, y_train).predict(X_test)\n",
      "from sklearn.metrics import classification_report\n",
      "print(classification_report(y_test, y_pred, target_names=classes))"
     ],
     "language": "python",
     "metadata": {},
     "outputs": [
      {
       "output_type": "stream",
       "stream": "stdout",
       "text": [
        "                      precision    recall  f1-score   support\n",
        "\n",
        "color-field-painting       0.95      0.88      0.91       204\n",
        "       expressionism       0.97      0.99      0.98       715\n",
        "\n",
        "         avg / total       0.96      0.96      0.96       919\n",
        "\n"
       ]
      }
     ],
     "prompt_number": 7
    },
    {
     "cell_type": "markdown",
     "metadata": {},
     "source": [
      "Classification (Multi class)\n",
      "------------------------------------\n",
      "\n",
      "Now let us try to classify all the 5 classes together. See this [Scikit-learn](http://scikit-learn.org/stable/modules/multiclass.html) documentation on how to implement multi class classification."
     ]
    },
    {
     "cell_type": "code",
     "collapsed": false,
     "input": [
      "# ############################# load data###############\n",
      "data_dir = '/home/student/ln_onedrive/code/promising-patterns/paintings/data/two_class_full_size/'\n",
      "import os\n",
      "from glob import glob\n",
      "classes = [i for i in os.listdir(data_dir) if os.path.isdir(data_dir + i)]\n",
      "classes = classes\n",
      "number_of_classes = len(classes)\n",
      "print 'Getting data from ', os.path.abspath(data_dir)\n",
      "print 'The classes are ', classes\n",
      "\n",
      "# load labels\n",
      "imagenet_labels_filename = caffe_root + 'data/ilsvrc12/synset_words.txt'\n",
      "try:\n",
      "    caffe_labels = np.loadtxt(imagenet_labels_filename, str, delimiter='\\t')\n",
      "except:\n",
      "    !../data/ilsvrc12/get_ilsvrc_aux.sh\n",
      "    caffe_labels = np.loadtxt(imagenet_labels_filename, str, delimiter='\\t')\n",
      "net.blobs['data'].reshape(1,3,227,227)  # change from batch of 10 to 1\n",
      "feature_file_name = 'ex_features.csv'\n",
      "try:\n",
      "    os.remove(feature_file_name)\n",
      "except OSError:\n",
      "    pass\n",
      "folder_labels = []  # indicates which class it belongs to\n",
      "for current_class in range(number_of_classes):  # For each genre\n",
      "    current_genre_file_list = glob(data_dir + classes[current_class] + '/*.jpg')  # List all the filenames\n",
      "    for image_i in current_genre_file_list:\n",
      "        caff_feat = extract_caffe_features(net,image_i)\n",
      "        with open(feature_file_name,'a') as f_handle:\n",
      "            np.savetxt(f_handle,caff_feat,delimiter=',')\n",
      "        folder_labels.append(current_class)\n",
      "\n",
      "X2 = np.loadtxt(feature_file_name)\n",
      "X = X2.reshape(len(folder_labels),-1)\n",
      "X.shape\n",
      "\n",
      "\n",
      "X_train, X_test, y_train, y_test = train_test_split(X,folder_labels)\n",
      "\n",
      "# Linear classifier\n",
      "from sklearn.svm import LinearSVC\n",
      "from sklearn.multiclass import OneVsRestClassifier\n",
      "clf = OneVsRestClassifier(LinearSVC(random_state=0))\n",
      "LinearSVC(C=0.01, penalty=\"l1\", dual=False)\n",
      "y_pred = clf.fit(X_train, y_train).predict(X_test)\n",
      "from sklearn.metrics import classification_report\n",
      "print(classification_report(y_test, y_pred, target_names=classes))"
     ],
     "language": "python",
     "metadata": {},
     "outputs": [
      {
       "output_type": "stream",
       "stream": "stdout",
       "text": [
        "Getting data from  /home/student/ln_onedrive/code/promising-patterns/paintings/data/two_class_full_size\n",
        "The classes are  ['color-field-painting', 'expressionism', 'impressionism', 'realism', 'surrealism']\n",
        "                      precision    recall  f1-score   support\n",
        "\n",
        "color-field-painting       0.85      0.83      0.84       195\n",
        "       expressionism       0.54      0.56      0.55       682\n",
        "       impressionism       0.51      0.54      0.52       618\n",
        "             realism       0.46      0.43      0.45       514\n",
        "          surrealism       0.33      0.28      0.30       202\n",
        "\n",
        "         avg / total       0.52      0.52      0.52      2211\n"
       ]
      },
      {
       "output_type": "stream",
       "stream": "stdout",
       "text": [
        "\n"
       ]
      }
     ],
     "prompt_number": 8
    },
    {
     "cell_type": "code",
     "collapsed": false,
     "input": [],
     "language": "python",
     "metadata": {},
     "outputs": []
    }
   ],
   "metadata": {}
  }
 ]
}