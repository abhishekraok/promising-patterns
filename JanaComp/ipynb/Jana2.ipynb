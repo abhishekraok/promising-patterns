{
 "cells": [
  {
   "cell_type": "markdown",
   "metadata": {},
   "source": [
    "Jana Computing \n",
    "=====================\n",
    "\n",
    "\n",
    "The basic units are each '**Janas**'. A jana is similar to a computing node of a neural network. Their task is to compute something. The currency of this world is computing. Each jana posseses a certain amount of computing currency called **Cupee**. Computing is a limited resource and hence each jana is allocated this probabilistically based on the amount of Cupees each has. The better they are at computing the more Cuppees they will get. They can form a cluster like a family and compute together for better computation. \n",
    "\n",
    "Cuppees are poured into the world by a computing task. Say I want to classify a paintings, I give input the painting and wait for the predicted output. If they predict right, then I will give large amount of cupees to the predictor. \n",
    "\n",
    "**Note:** Some concepts are borrowed from Kadnet. \n",
    "\n",
    "\n",
    "Thoughts:\n",
    "------------\n",
    "\n",
    "1. Should information also be made currency?\n",
    "2. who predicts?\n"
   ]
  },
  {
   "cell_type": "markdown",
   "metadata": {},
   "source": [
    "A simple world\n",
    "---------------------\n",
    "First let us try with a simple a world, where there are few janas and the tasks are also simple. Let there be 5 janas and the task is an XOR task. \n",
    "\n",
    "** Training ** \n",
    "Training can be done as follows. Choose some as input, and set their values. Give them some Cupees. "
   ]
  },
  {
   "cell_type": "code",
   "execution_count": 3,
   "metadata": {},
   "outputs": [],
   "source": [
    "import math\n",
    "import numpy as np\n",
    "import random"
   ]
  },
  {
   "cell_type": "code",
   "execution_count": 27,
   "metadata": {},
   "outputs": [
    {
     "name": "stdout",
     "output_type": "stream",
     "text": [
      "Name = Gamma  Cupee =  10  Connections =  [1]  Weights =  [-1.6058673] Ouput =  0\n",
      "Name = Soma  Cupee =  10  Connections =  [0]  Weights =  [-0.02236381] Ouput =  0\n",
      "Name = Bhima  Cupee =  10  Connections =  [1]  Weights =  [ 1.90110253] Ouput =  0\n",
      "Name = Rama  Cupee =  10  Connections =  [0]  Weights =  [ 0.95480511] Ouput =  0\n",
      "At predict\n",
      "Name = Gamma  Cupee =  10  Connections =  [1]  Weights =  [-0.6058673] Ouput =  1\n",
      "Name = Soma  Cupee =  10  Connections =  [0]  Weights =  [ 0.97763619] Ouput =  1\n",
      "Name = Bhima  Cupee =  10  Connections =  [1]  Weights =  [ 1.90110253] Ouput =  0\n",
      "Name = Rama  Cupee =  10  Connections =  [0]  Weights =  [ 2.95480511] Ouput =  1\n",
      "At predict\n",
      "Name = Gamma  Cupee =  10  Connections =  [1]  Weights =  [-0.6058673] Ouput =  1\n",
      "Name = Soma  Cupee =  10  Connections =  [0]  Weights =  [ 0.97763619] Ouput =  0\n",
      "Name = Bhima  Cupee =  10  Connections =  [1]  Weights =  [ 1.90110253] Ouput =  0.0101053963761\n",
      "Name = Rama  Cupee =  10  Connections =  [0]  Weights =  [ 2.95480511] Ouput =  0.0160656901327\n",
      "At predict\n",
      "Name = Gamma  Cupee =  10  Connections =  [1]  Weights =  [-0.6058673] Ouput =  0\n",
      "Name = Soma  Cupee =  10  Connections =  [0]  Weights =  [ 0.97763619] Ouput =  1\n",
      "Name = Bhima  Cupee =  10  Connections =  [1]  Weights =  [ 1.90110253] Ouput =  0.0\n",
      "Name = Rama  Cupee =  10  Connections =  [0]  Weights =  [ 2.95480511] Ouput =  0.0\n",
      "At predict\n",
      "Name = Gamma  Cupee =  10  Connections =  [1]  Weights =  [-0.6058673] Ouput =  0\n",
      "Name = Soma  Cupee =  10  Connections =  [0]  Weights =  [ 0.97763619] Ouput =  0\n",
      "Name = Bhima  Cupee =  10  Connections =  [1]  Weights =  [ 1.90110253] Ouput =  0.0101053963761\n",
      "Name = Rama  Cupee =  10  Connections =  [0]  Weights =  [ 2.95480511] Ouput =  0.0160656901327\n"
     ]
    },
    {
     "data": {
      "text/plain": [
       "[0.016065690132741624, 0.0, 0.016065690132741624, 0.0]"
      ]
     },
     "execution_count": 27,
     "output_type": "execute_result",
     "metadata": {}
    }
   ],
   "source": [
    "class Jana():\n",
    "    def __init__(self, start_cupee = 10, name=\"Default\"):\n",
    "        \"\"\"Initialize a Jana, with some Cuppe and no weights(connections).\"\"\"\n",
    "        self.Cupee = start_cupee\n",
    "        self.connections = []  # Integer index in jana_list\n",
    "        self.weights = np.array([])\n",
    "        self.name = name\n",
    "        self.output = 0   \n",
    "    \n",
    "    def activate(self, calling_loka):\n",
    "        \"\"\"Based on the input, set the output\"\"\"\n",
    "        input_jana = np.array([calling_loka.jana_list[k].output for k in self.connections])\n",
    "        self.output = np.dot(input_jana, self.weights)\n",
    "        \n",
    "class Loka():\n",
    "    \"\"\"A world of janas.\"\"\"\n",
    "    def __init__(self, names_list=['Gamma','Soma','Bhima','Rama']):\n",
    "        self.jana_list = [Jana(name=i) for i in names_list]\n",
    "        self.number_of_janas = len(self.jana_list)\n",
    "        self.learning_rate = 0.01\n",
    "    \n",
    "    def get_names(self):\n",
    "        \"\"\"Lists all the names of each jana\"\"\"\n",
    "        for i in self.jana_list:\n",
    "            print i.name\n",
    "            \n",
    "    def get_status_all(self):\n",
    "        \"\"\"Lists all the names, cupees and connections of each jana\"\"\"\n",
    "        for i in self.jana_list:\n",
    "            print 'Name =', i.name, ' Cupee = ', i.Cupee, ' Connections = ', i.connections, \\\n",
    "            ' Weights = ', i.weights, 'Ouput = ', i.output\n",
    "            \n",
    "    def initialize_connections(self):\n",
    "        \"\"\"Randomly Set the connections if their connection is []\"\"\"\n",
    "        for i in self.jana_list:\n",
    "            if i.connections == []:\n",
    "                # Choose the number of connections as Poisson ~ (sqrt(total janas))\n",
    "                num_connections = np.random.poisson(int(math.sqrt(self.number_of_janas)),1)[0]\n",
    "                # Prevent 0s\n",
    "                num_connections = min(max(num_connections,1),self.number_of_janas) \n",
    "                # Randomly choose these number of connections\n",
    "                i.connections = random.sample(range(self.number_of_janas), num_connections)\n",
    "                # initialize them with weight N(0,1)\n",
    "                i.weights = np.random.normal(0, 1, num_connections)\n",
    "                \n",
    "    def train(self, X, y):\n",
    "        \"\"\"Given an input X, and output y, we use a Hebbian rule update to \n",
    "        move the weight more towards predicting \"\"\"\n",
    "        sample_count = 0\n",
    "        for ith_sample in X:  # For every sample (row of X)\n",
    "            jana_count = 0 # counter to keep track of how many jana used\n",
    "            # first fix X, then y\n",
    "            for xij in ith_sample: # for each dimension (column of X)\n",
    "                self.jana_list[jana_count].output = xij\n",
    "                jana_count += 1\n",
    "            self.jana_list[-1].output = y[sample_count] # set the last one to y.\n",
    "            #self.get_status_all()\n",
    "            # hebbian weight update\n",
    "            for jana_i in self.jana_list:\n",
    "                input_jana = np.array([self.jana_list[k].output for k in jana_i.connections])\n",
    "                #print 'current Jana = ',jana_i.name, 'Input jana = ', input_jana\n",
    "                jana_i.weights += self.learning_rate*(input_jana*jana_i.output)\n",
    "        sample_count += 1\n",
    "    \n",
    "    def predict(self, X):\n",
    "        \"\"\"Given an input X, guess the output y\"\"\"\n",
    "        sample_count = 0\n",
    "        y = []\n",
    "        for ith_sample in X:  # For every sample (row of X)\n",
    "            jana_count = 0 # counter to keep track of how many jana used\n",
    "            # first fix X, then y\n",
    "            for xij in ith_sample: # for each dimension (column of X)\n",
    "                self.jana_list[jana_count].output = xij\n",
    "                jana_count += 1\n",
    "            print 'At predict'\n",
    "            self.get_status_all()\n",
    "            for n in range(10):\n",
    "                for jana_i in self.jana_list:\n",
    "                    jana_i.activate(self)\n",
    "            y.append(self.jana_list[-1].output)\n",
    "        return y\n",
    "    \n",
    "Loka1 = Loka()\n",
    "Loka1.initialize_connections()\n",
    "Loka1.get_status_all()\n",
    "X = [ [1,1], [1,0], [0,1],[0,0]]*100\n",
    "y = [1,0,0,0]*100\n",
    "\n",
    "\n",
    "Loka1.train(X,y)\n",
    "Loka1.predict(X[:4])"
   ]
  },
  {
   "cell_type": "code",
   "execution_count": null,
   "metadata": {},
   "outputs": [],
   "source": [
    ""
   ]
  },
  {
   "cell_type": "code",
   "execution_count": null,
   "metadata": {},
   "outputs": [],
   "source": [
    ""
   ]
  }
 ],
 "metadata": {
  "kernelspec": {
   "display_name": "Python 2",
   "language": "python",
   "name": "python2"
  },
  "language_info": {
   "codemirror_mode": {
    "name": "ipython",
    "version": 2.0
   },
   "file_extension": ".py",
   "mimetype": "text/x-python",
   "name": "python",
   "nbconvert_exporter": "python",
   "pygments_lexer": "ipython2",
   "version": "2.7.8"
  }
 },
 "nbformat": 4,
 "nbformat_minor": 0
}