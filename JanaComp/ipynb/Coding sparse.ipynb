{
 "metadata": {
  "name": ""
 },
 "nbformat": 3,
 "nbformat_minor": 0,
 "worksheets": [
  {
   "cells": [
    {
     "cell_type": "markdown",
     "metadata": {},
     "source": [
      "Based on this \n",
      "https://www.cs.utexas.edu/~leif/pubs/20130626-scipy-johnson.pdf\n"
     ]
    },
    {
     "cell_type": "code",
     "collapsed": false,
     "input": [
      "import numpy as np\n",
      "import sklearn.decomposition as skd\n",
      "import numpy.random as rng"
     ],
     "language": "python",
     "metadata": {},
     "outputs": [],
     "prompt_number": 1
    },
    {
     "cell_type": "code",
     "collapsed": false,
     "input": [
      "N = 2\n",
      "M = 10\n",
      "X = rng.randn(N, M)"
     ],
     "language": "python",
     "metadata": {},
     "outputs": [],
     "prompt_number": 2
    },
    {
     "cell_type": "code",
     "collapsed": false,
     "input": [
      "K = 7 \n",
      "D = rng.randn(N, K)"
     ],
     "language": "python",
     "metadata": {},
     "outputs": [],
     "prompt_number": 3
    },
    {
     "cell_type": "code",
     "collapsed": false,
     "input": [
      "Z = np.dot(D.T, X)\n",
      "print Z.shape"
     ],
     "language": "python",
     "metadata": {},
     "outputs": [
      {
       "output_type": "stream",
       "stream": "stdout",
       "text": [
        "(7, 10)\n"
       ]
      }
     ],
     "prompt_number": 4
    },
    {
     "cell_type": "code",
     "collapsed": false,
     "input": [
      "Z"
     ],
     "language": "python",
     "metadata": {},
     "outputs": [
      {
       "metadata": {},
       "output_type": "pyout",
       "prompt_number": 5,
       "text": [
        "array([[ 2.1129911 , -2.31301174,  0.80531561,  0.0284997 ,  1.10727555,\n",
        "        -0.55578616,  0.22818711,  2.69157837, -1.64089519,  1.84611605],\n",
        "       [-1.26451171,  1.38956866, -0.46543488, -0.14527247, -0.58226032,\n",
        "         0.47848023, -0.11033865, -1.8213976 ,  1.22302368, -0.827293  ],\n",
        "       [ 0.72177753, -0.75003769,  0.39855444, -0.94949753,  0.9796185 ,\n",
        "         0.9014653 ,  0.27410005, -0.65639302,  1.24275516,  2.70674604],\n",
        "       [ 0.27531638, -0.28922251,  0.14239065, -0.28732368,  0.3267382 ,\n",
        "         0.25869487,  0.08924628, -0.127406  ,  0.33331926,  0.8704541 ],\n",
        "       [-1.0362684 ,  1.06689483, -0.60286518,  1.60136432, -1.55576423,\n",
        "        -1.56519684, -0.44223035,  1.33363054, -2.23195329, -4.40157503],\n",
        "       [ 0.30769346, -0.30365792,  0.21946531, -0.7898245 ,  0.65901774,\n",
        "         0.82236929,  0.19558845, -0.91238006,  1.25365226,  1.9872826 ],\n",
        "       [ 2.43194899, -2.66789335,  0.90921953,  0.16999924,  1.18840484,\n",
        "        -0.79577178,  0.23457665,  3.3232601 , -2.14650841,  1.82784338]])"
       ]
      }
     ],
     "prompt_number": 5
    },
    {
     "cell_type": "code",
     "collapsed": false,
     "input": [
      "b = 0.5\n",
      "Z[Z - b < 0] = 0\n",
      "print Z"
     ],
     "language": "python",
     "metadata": {},
     "outputs": [
      {
       "output_type": "stream",
       "stream": "stdout",
       "text": [
        "[[ 2.1129911   0.          0.80531561  0.          1.10727555  0.          0.\n",
        "   2.69157837  0.          1.84611605]\n",
        " [ 0.          1.38956866  0.          0.          0.          0.          0.\n",
        "   0.          1.22302368  0.        ]\n",
        " [ 0.72177753  0.          0.          0.          0.9796185   0.9014653\n",
        "   0.          0.          1.24275516  2.70674604]\n",
        " [ 0.          0.          0.          0.          0.          0.          0.\n",
        "   0.          0.          0.8704541 ]\n",
        " [ 0.          1.06689483  0.          1.60136432  0.          0.          0.\n",
        "   1.33363054  0.          0.        ]\n",
        " [ 0.          0.          0.          0.          0.65901774  0.82236929\n",
        "   0.          0.          1.25365226  1.9872826 ]\n",
        " [ 2.43194899  0.          0.90921953  0.          1.18840484  0.          0.\n",
        "   3.3232601   0.          1.82784338]]\n"
       ]
      }
     ],
     "prompt_number": 6
    },
    {
     "cell_type": "markdown",
     "metadata": {},
     "source": [
      "What does this do? What is Z?"
     ]
    },
    {
     "cell_type": "code",
     "collapsed": false,
     "input": [
      "Z2 = skd.sparse_encode(\n",
      "X.T, D.T, alpha=b,\n",
      "algorithm='threshold')\n",
      "print Z2"
     ],
     "language": "python",
     "metadata": {},
     "outputs": [
      {
       "output_type": "stream",
       "stream": "stdout",
       "text": [
        "[[ 1.6129911  -0.76451171  0.22177753  0.         -0.5362684   0.\n",
        "   1.93194899]\n",
        " [-1.81301174  0.88956866 -0.25003769 -0.          0.56689483 -0.\n",
        "  -2.16789335]\n",
        " [ 0.30531561 -0.          0.          0.         -0.10286518  0.\n",
        "   0.40921953]\n",
        " [ 0.         -0.         -0.44949753 -0.          1.10136432 -0.2898245\n",
        "   0.        ]\n",
        " [ 0.60727555 -0.08226032  0.4796185   0.         -1.05576423  0.15901774\n",
        "   0.68840484]\n",
        " [-0.05578616  0.          0.4014653   0.         -1.06519684  0.32236929\n",
        "  -0.29577178]\n",
        " [ 0.         -0.          0.          0.         -0.          0.          0.        ]\n",
        " [ 2.19157837 -1.3213976  -0.15639302 -0.          0.83363054 -0.41238006\n",
        "   2.8232601 ]\n",
        " [-1.14089519  0.72302368  0.74275516  0.         -1.73195329  0.75365226\n",
        "  -1.64650841]\n",
        " [ 1.34611605 -0.327293    2.20674604  0.3704541  -3.90157503  1.4872826\n",
        "   1.32784338]]\n"
       ]
      }
     ],
     "prompt_number": 9
    },
    {
     "cell_type": "markdown",
     "metadata": {},
     "source": [
      "From what I understand, Z is bunch of coefficients, where each column represents how close that mth sample of X is to that kth sample of D."
     ]
    },
    {
     "cell_type": "code",
     "collapsed": false,
     "input": [
      "Z3 = skd.sparse_encode(\n",
      "X.T, D.T, algorithm='omp',\n",
      "n_nonzero_coefs=3)\n",
      "print Z3 "
     ],
     "language": "python",
     "metadata": {},
     "outputs": [
      {
       "output_type": "stream",
       "stream": "stdout",
       "text": [
        "[[ 0.          0.          0.          0.          0.          0.\n",
        "   2.43194899]\n",
        " [ 0.          0.          0.          0.          0.          0.\n",
        "  -2.66789335]\n",
        " [ 0.          0.          0.          0.          0.          0.\n",
        "   0.90921953]\n",
        " [ 0.          0.          0.          0.          1.60136432  0.          0.        ]\n",
        " [ 0.          0.          0.          0.         -1.55576423  0.          0.        ]\n",
        " [ 0.          0.          0.          0.         -1.56519684  0.          0.        ]\n",
        " [ 0.          0.          0.          0.         -0.44223035  0.          0.        ]\n",
        " [ 0.          0.          0.          0.          0.          0.\n",
        "   3.3232601 ]\n",
        " [ 0.          0.          0.          0.         -2.23195329  0.          0.        ]\n",
        " [ 0.          0.          0.          0.         -4.40157503  0.          0.        ]]\n"
       ]
      }
     ],
     "prompt_number": 11
    },
    {
     "cell_type": "code",
     "collapsed": false,
     "input": [],
     "language": "python",
     "metadata": {},
     "outputs": []
    }
   ],
   "metadata": {}
  }
 ]
}