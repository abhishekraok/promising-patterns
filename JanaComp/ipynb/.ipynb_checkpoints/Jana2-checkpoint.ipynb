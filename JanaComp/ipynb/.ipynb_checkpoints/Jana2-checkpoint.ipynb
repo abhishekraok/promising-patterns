{
 "cells": [
  {
   "cell_type": "markdown",
   "metadata": {},
   "source": [
    "Jana Computing \n",
    "=====================\n",
    "\n",
    "\n",
    "The basic units are each '**Janas**'. A jana is similar to a computing node of a neural network. Their task is to compute something. The currency of this world is computing. Each jana posseses a certain amount of computing currency called **Cupee**. Computing is a limited resource and hence each jana is allocated this probabilistically based on the amount of Cupees each has. The better they are at computing the more Cuppees they will get. They can form a cluster like a family and compute together for better computation. \n",
    "\n",
    "Cuppees are poured into the world by a computing task. Say I want to classify a paintings, I give input the painting and wait for the predicted output. If they predict right, then I will give large amount of cupees to the predictor. \n",
    "\n",
    "**Note:** Some concepts are borrowed from Kadnet. \n",
    "\n",
    "\n",
    "Thoughts:\n",
    "------------\n",
    "\n",
    "1. Should information also be made currency?\n",
    "2. who predicts?\n"
   ]
  },
  {
   "cell_type": "markdown",
   "metadata": {},
   "source": [
    "A simple world\n",
    "---------------------\n",
    "First let us try with a simple a world, where there are few janas and the tasks are also simple. Let there be 5 janas and the task is an XOR task. \n",
    "\n",
    "** Training ** \n",
    "Training can be done as follows. Choose some as input, and set their values. Give them some Cupees. "
   ]
  },
  {
   "cell_type": "code",
   "execution_count": 1,
   "metadata": {
    "collapsed": true
   },
   "outputs": [],
   "source": [
    "import math\n",
    "import numpy as np\n",
    "import random"
   ]
  },
  {
   "cell_type": "code",
   "execution_count": 2,
   "metadata": {
    "collapsed": false
   },
   "outputs": [
    {
     "name": "stdout",
     "output_type": "stream",
     "text": [
      "Name = Gamma  Cupee =  10  Connections =  [0, 3, 1]  Weights =  [ 1.07751122  0.40122296  1.17391615]\n",
      "Name = Soma  Cupee =  10  Connections =  [0, 1, 3, 2]  Weights =  [-0.08135783 -0.79107517 -1.95915504 -0.16139437]\n",
      "Name = Bhima  Cupee =  10  Connections =  [3, 0, 2, 1]  Weights =  [-2.20688353 -0.10131036 -0.33410281 -0.56769047]\n",
      "Name = Rama  Cupee =  10  Connections =  [1, 0, 2]  Weights =  [ 0.00206019 -0.04138366  1.11183821]\n"
     ]
    }
   ],
   "source": [
    "class Jana():\n",
    "    def __init__(self, start_cupee = 10, name=\"Default\"):\n",
    "        \"\"\"Initialize a Jana, with some Cuppe and no weights(connections).\"\"\"\n",
    "        self.Cupee = start_cupee\n",
    "        self.connections = []  # Integer index in jana_list\n",
    "        self.weights = np.array([])\n",
    "        self.name = name\n",
    "        \n",
    "class Loka():\n",
    "    \"\"\"A world of janas.\"\"\"\n",
    "    def __init__(self, names_list=['Gamma','Soma','Bhima','Rama']):\n",
    "        self.jana_list = [Jana(name=i) for i in names_list]\n",
    "        self.number_of_janas = len(self.jana_list)\n",
    "    \n",
    "    def get_names(self):\n",
    "        \"\"\"Lists all the names of each jana\"\"\"\n",
    "        for i in self.jana_list:\n",
    "            print i.name\n",
    "            \n",
    "    def get_status_all(self):\n",
    "        \"\"\"Lists all the names, cupees and connections of each jana\"\"\"\n",
    "        for i in self.jana_list:\n",
    "            print 'Name =', i.name, ' Cupee = ', i.Cupee, ' Connections = ', i.connections, ' Weights = ', i.weights\n",
    "            \n",
    "    def initialize_connections(self):\n",
    "        \"\"\"Randomly Set the connections if their connection is []\"\"\"\n",
    "        for i in self.jana_list:\n",
    "            if i.connections == []:\n",
    "                # Choose the number of connections as Poisson ~ (sqrt(total janas))\n",
    "                num_connections = np.random.poisson(int(math.sqrt(self.number_of_janas)),1)[0]\n",
    "                # Prevent 0s\n",
    "                num_connections = min(max(num_connections,1),self.number_of_janas) \n",
    "                # Randomly choose these number of connections\n",
    "                i.connections = random.sample(range(self.number_of_janas), num_connections)\n",
    "                # initialize them with weight N(0,1)\n",
    "                i.weights = np.random.normal(0, 1, num_connections)\n",
    "                \n",
    "Loka1 = Loka()\n",
    "Loka1.initialize_connections()\n",
    "Loka1.get_status_all()\n",
    " "
   ]
  },
  {
   "cell_type": "code",
   "execution_count": null,
   "metadata": {
    "collapsed": true
   },
   "outputs": [],
   "source": []
  }
 ],
 "metadata": {
  "kernelspec": {
   "display_name": "Python 2",
   "language": "python",
   "name": "python2"
  },
  "language_info": {
   "codemirror_mode": {
    "name": "ipython",
    "version": 2
   },
   "file_extension": ".py",
   "mimetype": "text/x-python",
   "name": "python",
   "nbconvert_exporter": "python",
   "pygments_lexer": "ipython2",
   "version": "2.7.8"
  }
 },
 "nbformat": 4,
 "nbformat_minor": 0
}
