{
 "cells": [
  {
   "cell_type": "markdown",
   "metadata": {},
   "source": [
    "# Learning Machine (Scratch)\n",
    "##### Trying out ideas for classifiers bank"
   ]
  },
  {
   "cell_type": "markdown",
   "metadata": {},
   "source": [
    "How sparse are the weights learned by LinearSVC with l1 penatly, let's try with a dummy dataset.\n",
    "first 3 columns are noise, last two are actual data, and output is and function."
   ]
  },
  {
   "cell_type": "code",
   "execution_count": 8,
   "metadata": {},
   "outputs": [],
   "source": [
    "import numpy as np\n",
    "from sklearn import svm"
   ]
  },
  {
   "cell_type": "code",
   "execution_count": 14,
   "metadata": {},
   "outputs": [
    {
     "name": "stdout",
     "output_type": "stream",
     "text": [
      "[[ 1.4494588  -0.87701341  0.59572656  1.          0.        ]\n",
      " [-0.18027455 -0.20010864 -0.02353168  0.          1.        ]\n",
      " [-0.35538212 -0.01001067 -1.30983095  1.          1.        ]\n",
      " [ 0.86115974  0.41442813 -0.25017291  0.          0.        ]\n",
      " [-0.69212932  0.59595851 -0.22195596  1.          0.        ]\n",
      " [-0.23242998  0.84134878 -1.12742011  0.          1.        ]\n",
      " [ 0.22090338  0.05101463 -1.6615725   1.          1.        ]\n",
      " [ 0.68491212 -1.29508922 -0.46963583  0.          0.        ]\n",
      " [-0.25382081 -1.31338617 -2.7919427   0.          1.        ]]\n",
      "[0 0 1 0 0 0 1 0 0]\n"
     ]
    }
   ],
   "source": [
    "noise_columns = np.random.randn(9, 3)\n",
    "data_columns = np.array( [ [1,0], [0,1], [1,1], [0,0]]*2 + [[0,1]])\n",
    "X = np.hstack([noise_columns, data_columns]) # ttoal data\n",
    "print X\n",
    "y = np.array([0, 0,1,0]*2 + [0])\n",
    "print y"
   ]
  },
  {
   "cell_type": "code",
   "execution_count": 15,
   "metadata": {},
   "outputs": [],
   "source": [
    "clfl1 = svm.LinearSVC(dual=False,penalty='l1')\n",
    "clfl2 = svm.SVC()"
   ]
  },
  {
   "cell_type": "code",
   "execution_count": 16,
   "metadata": {},
   "outputs": [
    {
     "data": {
      "text/plain": [
       "SVC(C=1.0, cache_size=200, class_weight=None, coef0=0.0, degree=3, gamma=0.0,\n",
       "  kernel='rbf', max_iter=-1, probability=False, random_state=None,\n",
       "  shrinking=True, tol=0.001, verbose=False)"
      ]
     },
     "execution_count": 16,
     "output_type": "execute_result",
     "metadata": {}
    }
   ],
   "source": [
    "clfl1.fit(X,y)\n",
    "clfl2.fit(X,y)"
   ]
  },
  {
   "cell_type": "code",
   "execution_count": 18,
   "metadata": {},
   "outputs": [
    {
     "name": "stdout",
     "output_type": "stream",
     "text": [
      "[[ 0.          0.02212106 -0.14678824  0.8860498   0.50087378]]\n"
     ]
    }
   ],
   "source": [
    "print clfl1.coef_"
   ]
  },
  {
   "cell_type": "code",
   "execution_count": 19,
   "metadata": {},
   "outputs": [
    {
     "data": {
      "text/plain": [
       "<bound method SVC.get_params of SVC(C=1.0, cache_size=200, class_weight=None, coef0=0.0, degree=3, gamma=0.0,\n",
       "  kernel='rbf', max_iter=-1, probability=False, random_state=None,\n",
       "  shrinking=True, tol=0.001, verbose=False)>"
      ]
     },
     "execution_count": 19,
     "output_type": "execute_result",
     "metadata": {}
    }
   ],
   "source": [
    "clfl2.get_params"
   ]
  },
  {
   "cell_type": "code",
   "execution_count": 25,
   "metadata": {},
   "outputs": [
    {
     "data": {
      "text/plain": [
       "0.0"
      ]
     },
     "execution_count": 25,
     "output_type": "execute_result",
     "metadata": {}
    }
   ],
   "source": [
    "clfl2.epsilon"
   ]
  },
  {
   "cell_type": "code",
   "execution_count": 26,
   "metadata": {},
   "outputs": [],
   "source": [
    "cfll1_c10 = svm.LinearSVC(dual=False,penalty='l1',C=10).fit(X,y)\n",
    "cfll1_c100 = svm.LinearSVC(dual=False,penalty='l1',C=100).fit(X,y)\n",
    "cfll1_cp1 = svm.LinearSVC(dual=False,penalty='l1',C=0.1).fit(X,y)"
   ]
  },
  {
   "cell_type": "code",
   "execution_count": 30,
   "metadata": {},
   "outputs": [
    {
     "name": "stdout",
     "output_type": "stream",
     "text": [
      "[[ 0.          0.00223321 -0.01470972  1.88852809  1.84993938]] [-2.83541019]\n",
      "[[  0.00000000e+00   2.02605890e-04  -1.44104685e-03   1.98892948e+00\n",
      "    1.98513853e+00]] [-2.98367241]\n",
      "[[ 0.  0.  0.  0.  0.]] [ 0.]\n"
     ]
    }
   ],
   "source": [
    "print cfll1_c10.coef_, cfll1_c10.intercept_\n",
    "print cfll1_c100.coef_, cfll1_c100.intercept_\n",
    "print cfll1_cp1.coef_, cfll1_cp1.intercept_"
   ]
  },
  {
   "cell_type": "code",
   "execution_count": 40,
   "metadata": {},
   "outputs": [
    {
     "name": "stdout",
     "output_type": "stream",
     "text": [
      "1.0\n",
      "1.0\n",
      "0.777777777778\n"
     ]
    }
   ],
   "source": [
    "print cfll1_c10.score(X,y)\n",
    "print cfll1_c100.score(X,y)\n",
    "print cfll1_cp1.score(X,y)"
   ]
  },
  {
   "cell_type": "code",
   "execution_count": 29,
   "metadata": {},
   "outputs": [
    {
     "data": {
      "text/plain": [
       "array([-2.83541019])"
      ]
     },
     "execution_count": 29,
     "output_type": "execute_result",
     "metadata": {}
    }
   ],
   "source": [
    "cfll1_c10.intercept_"
   ]
  },
  {
   "cell_type": "markdown",
   "metadata": {},
   "source": [
    "Let us try dictionary learning, lassso etc\n"
   ]
  },
  {
   "cell_type": "code",
   "execution_count": 34,
   "metadata": {},
   "outputs": [
    {
     "data": {
      "text/plain": [
       "Lasso(alpha=0.1, copy_X=True, fit_intercept=True, max_iter=1000,\n",
       "   normalize=False, positive=False, precompute='auto', tol=0.0001,\n",
       "   warm_start=False)"
      ]
     },
     "execution_count": 34,
     "output_type": "execute_result",
     "metadata": {}
    }
   ],
   "source": [
    "from sklearn import linear_model\n",
    "clf_lasso = linear_model.Lasso(alpha=0.1)\n",
    "clf_lasso.fit(X,y)"
   ]
  },
  {
   "cell_type": "code",
   "execution_count": 35,
   "metadata": {},
   "outputs": [
    {
     "data": {
      "text/plain": [
       "array([-0.        ,  0.        , -0.06317879,  0.11288796,  0.        ])"
      ]
     },
     "execution_count": 35,
     "output_type": "execute_result",
     "metadata": {}
    }
   ],
   "source": [
    "clf_lasso.coef_"
   ]
  },
  {
   "cell_type": "code",
   "execution_count": 36,
   "metadata": {},
   "outputs": [
    {
     "data": {
      "text/plain": [
       "array([ 0.19633389,  0.12256991,  0.31672471,  0.13688883,  0.24799408,\n",
       "        0.19231225,  0.33894732,  0.15075423,  0.29747477])"
      ]
     },
     "execution_count": 36,
     "output_type": "execute_result",
     "metadata": {}
    }
   ],
   "source": [
    "clf_lasso.predict(X)"
   ]
  },
  {
   "cell_type": "code",
   "execution_count": 38,
   "metadata": {},
   "outputs": [
    {
     "data": {
      "text/plain": [
       "0.237656379753451"
      ]
     },
     "execution_count": 38,
     "output_type": "execute_result",
     "metadata": {}
    }
   ],
   "source": [
    "clf_lasso.score(X,y)"
   ]
  },
  {
   "cell_type": "markdown",
   "metadata": {},
   "source": [
    "#### Observations\n",
    "Looks like LinearSVC gets score of 1, but lasso gets very low score. On the other hand, most of lasso's coeff are 0 unlike linearSVC.\n",
    "Let us try dictionary sparse coder from ['http://scikit-learn.org/stable/modules/generated/sklearn.decomposition.SparseCoder.html#sklearn.decomposition.SparseCoder']"
   ]
  },
  {
   "cell_type": "code",
   "execution_count": 44,
   "metadata": {},
   "outputs": [],
   "source": [
    "from sklearn.decomposition import SparseCoder\n",
    "clf_spc = SparseCoder(dictionary=X.T)\n",
    "codes = clf_spc.transform(y)"
   ]
  },
  {
   "cell_type": "code",
   "execution_count": 45,
   "metadata": {},
   "outputs": [
    {
     "data": {
      "text/plain": [
       "array([ 0.        ,  0.        , -2.97140344,  0.        ,  0.        ])"
      ]
     },
     "execution_count": 45,
     "output_type": "execute_result",
     "metadata": {}
    }
   ],
   "source": [
    "codes"
   ]
  },
  {
   "cell_type": "code",
   "execution_count": 46,
   "metadata": {},
   "outputs": [
    {
     "data": {
      "text/plain": [
       "SparseCoder(dictionary=None, n_jobs=1, split_sign=False,\n",
       "      transform_algorithm='omp', transform_alpha=None,\n",
       "      transform_n_nonzero_coefs=None)"
      ]
     },
     "execution_count": 46,
     "output_type": "execute_result",
     "metadata": {}
    }
   ],
   "source": [
    "clf_spc"
   ]
  },
  {
   "cell_type": "code",
   "execution_count": 49,
   "metadata": {},
   "outputs": [
    {
     "name": "stdout",
     "output_type": "stream",
     "text": [
      "[ 0.          0.         -2.97140344  0.          0.        ]\n"
     ]
    }
   ],
   "source": [
    "omp_coeff = linear_model.orthogonal_mp(X,y)\n",
    "print omp_coeff"
   ]
  },
  {
   "cell_type": "markdown",
   "metadata": {},
   "source": [
    "This is same as above. In other words orhtogonal_mp is the same as SparseCoder because the default algo of sparse coder is 'omp'"
   ]
  },
  {
   "cell_type": "code",
   "execution_count": 53,
   "metadata": {},
   "outputs": [
    {
     "name": "stdout",
     "output_type": "stream",
     "text": [
      "[-0.57628523 -0.85558758  0.22348099 -1.30959889 -0.42367536 -0.6705116\n",
      "  0.27646246 -1.31520064 -0.47384427]\n"
     ]
    }
   ],
   "source": [
    "dec_fx = clfl1.decision_function(X)\n",
    "print dec_fx"
   ]
  },
  {
   "cell_type": "code",
   "execution_count": 54,
   "metadata": {},
   "outputs": [
    {
     "data": {
      "text/plain": [
       "array([ 0.23034054,  0.2093018 ,  0.24690432,  0.16737478,  0.23910849,\n",
       "        0.22387972,  0.24528323,  0.16683576,  0.23647588])"
      ]
     },
     "execution_count": 54,
     "output_type": "execute_result",
     "metadata": {}
    }
   ],
   "source": [
    "from scipy.stats import logistic\n",
    "logistic.pdf(dec_fx)"
   ]
  },
  {
   "cell_type": "code",
   "execution_count": 58,
   "metadata": {},
   "outputs": [
    {
     "name": "stdout",
     "output_type": "stream",
     "text": [
      "[0.359787808233521, 0.298262049836167, 0.5556388729819498, 0.21255397241002805, 0.39563760414019666, 0.3383822942416873, 0.5686787366650302, 0.2116178900361327, 0.3837067606497525]\n"
     ]
    }
   ],
   "source": [
    "import math\n",
    "\n",
    "def sigmoid(x):\n",
    "  return 1 / (1 + math.exp(-x))\n",
    "\n",
    "sigm_arr = [sigmoid(i) for i in dec_fx]\n",
    "print sigm_arr"
   ]
  },
  {
   "cell_type": "code",
   "execution_count": 62,
   "metadata": {},
   "outputs": [
    {
     "name": "stdout",
     "output_type": "stream",
     "text": [
      "(90L, 5L)\n"
     ]
    }
   ],
   "source": [
    "X_big=np.vstack([X]*10)\n",
    "print X_big.shape"
   ]
  },
  {
   "cell_type": "code",
   "execution_count": 66,
   "metadata": {},
   "outputs": [
    {
     "name": "stdout",
     "output_type": "stream",
     "text": [
      "[0 0 1 0 0 0 1 0 0 0 0 1 0 0 0 1 0 0 0 0 1 0 0 0 1 0 0 0 0 1 0 0 0 1 0 0 0\n",
      " 0 1 0 0 0 1 0 0 0 0 1 0 0 0 1 0 0 0 0 1 0 0 0 1 0 0 0 0 1 0 0 0 1 0 0 0 0\n",
      " 1 0 0 0 1 0 0 0 0 1 0 0 0 1 0 0]\n"
     ]
    }
   ],
   "source": [
    "y_big = np.hstack([y]*10)\n",
    "print y_big"
   ]
  },
  {
   "cell_type": "code",
   "execution_count": 67,
   "metadata": {},
   "outputs": [
    {
     "name": "stdout",
     "output_type": "stream",
     "text": [
      "[[ 0.          0.00222808 -0.01469642  1.88854734  1.84997612]]\n"
     ]
    }
   ],
   "source": [
    "clf_l1_big = svm.LinearSVC(dual=False,penalty='l1').fit(X_big,y_big)\n",
    "print clf_l1_big.coef_"
   ]
  },
  {
   "cell_type": "code",
   "execution_count": 70,
   "metadata": {},
   "outputs": [
    {
     "name": "stdout",
     "output_type": "stream",
     "text": [
      "[-0.95760743 -0.98556957  0.92230532 -2.83084563 -0.94230852 -0.96702591\n",
      "  0.92761063 -2.83142926 -0.94736432]\n"
     ]
    }
   ],
   "source": [
    "big_dec = clf_l1_big.decision_function(X)\n",
    "print big_dec"
   ]
  },
  {
   "cell_type": "code",
   "execution_count": 72,
   "metadata": {},
   "outputs": [
    {
     "name": "stdout",
     "output_type": "stream",
     "text": [
      "[6.93639249081493e-05, 5.244486518408945e-05, 0.9999012729818527, 5.079180141757308e-13, 8.082970547733213e-05, 6.312951111957026e-05, 0.9999063737637439, 5.049622937236995e-13, 7.684501014438589e-05]\n"
     ]
    }
   ],
   "source": [
    "sigm_arr = [sigmoid(i*10) for i in big_dec]\n",
    "print sigm_arr"
   ]
  },
  {
   "cell_type": "code",
   "execution_count": 74,
   "metadata": {},
   "outputs": [
    {
     "name": "stdout",
     "output_type": "stream",
     "text": [
      "[[ 0.01220647  0.03976548 -0.05788358  2.03273072  1.95429305]]\n"
     ]
    }
   ],
   "source": [
    "clf_l1_big = svm.LinearSVC(dual=False,penalty='l1',C=100).fit(X_big,y_big)\n",
    "print clf_l1_big.coef_"
   ]
  },
  {
   "cell_type": "code",
   "execution_count": 77,
   "metadata": {},
   "outputs": [
    {
     "name": "stdout",
     "output_type": "stream",
     "text": [
      "[  0.           0.         -29.71403442   0.           0.        ]\n"
     ]
    }
   ],
   "source": [
    "omp_coeff = linear_model.orthogonal_mp(X_big,y_big)\n",
    "print omp_coeff"
   ]
  },
  {
   "cell_type": "code",
   "execution_count": 81,
   "metadata": {},
   "outputs": [
    {
     "name": "stdout",
     "output_type": "stream",
     "text": [
      "[[ 1.  0.  0.  0.  0.]\n",
      " [ 0.  1.  0.  0.  0.]\n",
      " [ 0.  0.  1.  0.  0.]\n",
      " [ 0.  0.  0.  0.  0.]\n",
      " [ 0.  0.  0.  0.  0.]]\n"
     ]
    }
   ],
   "source": [
    "# Finding the rightmost nonzero column\n",
    "M = np.eye(5)\n",
    "M[:,-2:] = np.zeros([5,2])\n",
    "print M"
   ]
  },
  {
   "cell_type": "code",
   "execution_count": 93,
   "metadata": {},
   "outputs": [
    {
     "data": {
      "text/plain": [
       "2"
      ]
     },
     "execution_count": 93,
     "output_type": "execute_result",
     "metadata": {}
    }
   ],
   "source": [
    "[np.any(M[:,i]) for i in range(5)][::-1].index(True)"
   ]
  },
  {
   "cell_type": "code",
   "execution_count": null,
   "metadata": {},
   "outputs": [],
   "source": [
    ""
   ]
  }
 ],
 "metadata": {
  "kernelspec": {
   "display_name": "Python 2",
   "language": "python",
   "name": "python2"
  },
  "language_info": {
   "codemirror_mode": {
    "name": "ipython",
    "version": 2.0
   },
   "file_extension": ".py",
   "mimetype": "text/x-python",
   "name": "python",
   "nbconvert_exporter": "python",
   "pygments_lexer": "ipython2",
   "version": "2.7.8"
  }
 },
 "nbformat": 4,
 "nbformat_minor": 0
}