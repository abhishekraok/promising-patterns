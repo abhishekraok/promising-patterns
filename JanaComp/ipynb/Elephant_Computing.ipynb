{
 "cells": [
  {
   "cell_type": "markdown",
   "metadata": {},
   "source": [
    "Elephant Computing\n",
    "=======================\n",
    "\n",
    "This classifier consists of a pool of classifier and each classifier is selected based on the current input, a main classifier decides which sub classifier to use.\n"
   ]
  },
  {
   "cell_type": "markdown",
   "metadata": {},
   "source": [
    "Hold that thought, let me try a gated neurons\n",
    "Gated Neurons\n",
    "==================\n",
    "Here each elements consists of two things, a gater, which seeing the input gates the transformer. A transformer which just transforms the data.\n",
    "\n",
    "One more question, what is an identfier? We need an identifies before classification, most NN don't do this."
   ]
  },
  {
   "cell_type": "code",
   "execution_count": null,
   "metadata": {
    "collapsed": true
   },
   "outputs": [],
   "source": []
  }
 ],
 "metadata": {
  "kernelspec": {
   "display_name": "Python 2",
   "language": "python",
   "name": "python2"
  },
  "language_info": {
   "codemirror_mode": {
    "name": "ipython",
    "version": 2
   },
   "file_extension": ".py",
   "mimetype": "text/x-python",
   "name": "python",
   "nbconvert_exporter": "python",
   "pygments_lexer": "ipython2",
   "version": "2.7.8"
  }
 },
 "nbformat": 4,
 "nbformat_minor": 0
}
